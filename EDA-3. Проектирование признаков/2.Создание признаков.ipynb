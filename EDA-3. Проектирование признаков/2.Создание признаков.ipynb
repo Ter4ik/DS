{
 "cells": [
  {
   "cell_type": "code",
   "execution_count": 260,
   "metadata": {},
   "outputs": [
    {
     "data": {
      "text/html": [
       "<div>\n",
       "<style scoped>\n",
       "    .dataframe tbody tr th:only-of-type {\n",
       "        vertical-align: middle;\n",
       "    }\n",
       "\n",
       "    .dataframe tbody tr th {\n",
       "        vertical-align: top;\n",
       "    }\n",
       "\n",
       "    .dataframe thead th {\n",
       "        text-align: right;\n",
       "    }\n",
       "</style>\n",
       "<table border=\"1\" class=\"dataframe\">\n",
       "  <thead>\n",
       "    <tr style=\"text-align: right;\">\n",
       "      <th></th>\n",
       "      <th>Unnamed: 0.2</th>\n",
       "      <th>Unnamed: 0.1</th>\n",
       "      <th>Unnamed: 0</th>\n",
       "      <th>country</th>\n",
       "      <th>description</th>\n",
       "      <th>designation</th>\n",
       "      <th>points</th>\n",
       "      <th>price</th>\n",
       "      <th>province</th>\n",
       "      <th>region_1</th>\n",
       "      <th>...</th>\n",
       "      <th>title</th>\n",
       "      <th>variety</th>\n",
       "      <th>winery</th>\n",
       "      <th>price_round</th>\n",
       "      <th>year</th>\n",
       "      <th>is_usa</th>\n",
       "      <th>is_france</th>\n",
       "      <th>is_italy</th>\n",
       "      <th>old_wine</th>\n",
       "      <th>locality</th>\n",
       "    </tr>\n",
       "  </thead>\n",
       "  <tbody>\n",
       "    <tr>\n",
       "      <th>0</th>\n",
       "      <td>0</td>\n",
       "      <td>0</td>\n",
       "      <td>0</td>\n",
       "      <td>Italy</td>\n",
       "      <td>Aromas include tropical fruit, broom, brimston...</td>\n",
       "      <td>Vulkà Bianco</td>\n",
       "      <td>87</td>\n",
       "      <td>35.363389</td>\n",
       "      <td>Sicily &amp; Sardinia</td>\n",
       "      <td>Etna</td>\n",
       "      <td>...</td>\n",
       "      <td>Nicosia 2013 Vulkà Bianco  (Etna)</td>\n",
       "      <td>White Blend</td>\n",
       "      <td>Nicosia</td>\n",
       "      <td>35</td>\n",
       "      <td>2013-01-01</td>\n",
       "      <td>0</td>\n",
       "      <td>0</td>\n",
       "      <td>1</td>\n",
       "      <td>0</td>\n",
       "      <td>Etna</td>\n",
       "    </tr>\n",
       "    <tr>\n",
       "      <th>1</th>\n",
       "      <td>1</td>\n",
       "      <td>1</td>\n",
       "      <td>1</td>\n",
       "      <td>Portugal</td>\n",
       "      <td>This is ripe and fruity, a wine that is smooth...</td>\n",
       "      <td>Avidagos</td>\n",
       "      <td>87</td>\n",
       "      <td>15.000000</td>\n",
       "      <td>Douro</td>\n",
       "      <td>unknown</td>\n",
       "      <td>...</td>\n",
       "      <td>Quinta dos Avidagos 2011 Avidagos Red (Douro)</td>\n",
       "      <td>Portuguese Red</td>\n",
       "      <td>Quinta dos Avidagos</td>\n",
       "      <td>15</td>\n",
       "      <td>2011-01-01</td>\n",
       "      <td>0</td>\n",
       "      <td>0</td>\n",
       "      <td>0</td>\n",
       "      <td>0</td>\n",
       "      <td>Douro</td>\n",
       "    </tr>\n",
       "  </tbody>\n",
       "</table>\n",
       "<p>2 rows × 22 columns</p>\n",
       "</div>"
      ],
      "text/plain": [
       "   Unnamed: 0.2  Unnamed: 0.1  Unnamed: 0   country   \n",
       "0             0             0           0     Italy  \\\n",
       "1             1             1           1  Portugal   \n",
       "\n",
       "                                         description   designation  points   \n",
       "0  Aromas include tropical fruit, broom, brimston...  Vulkà Bianco      87  \\\n",
       "1  This is ripe and fruity, a wine that is smooth...      Avidagos      87   \n",
       "\n",
       "       price           province region_1  ...   \n",
       "0  35.363389  Sicily & Sardinia     Etna  ...  \\\n",
       "1  15.000000              Douro  unknown  ...   \n",
       "\n",
       "                                           title         variety   \n",
       "0              Nicosia 2013 Vulkà Bianco  (Etna)     White Blend  \\\n",
       "1  Quinta dos Avidagos 2011 Avidagos Red (Douro)  Portuguese Red   \n",
       "\n",
       "                winery price_round        year  is_usa is_france  is_italy   \n",
       "0              Nicosia          35  2013-01-01       0         0         1  \\\n",
       "1  Quinta dos Avidagos          15  2011-01-01       0         0         0   \n",
       "\n",
       "   old_wine  locality  \n",
       "0         0      Etna  \n",
       "1         0     Douro  \n",
       "\n",
       "[2 rows x 22 columns]"
      ]
     },
     "execution_count": 260,
     "metadata": {},
     "output_type": "execute_result"
    }
   ],
   "source": [
    "import pandas as pd\n",
    "data= pd.read_csv('data/wine_cleared.csv')\n",
    "import statistics\n",
    "data.head(2)"
   ]
  },
  {
   "attachments": {},
   "cell_type": "markdown",
   "metadata": {},
   "source": [
    "                           РАЗБОР ЧИСЛОВЫХ ВЕЛИЧИН\n",
    "\n",
    "В наборе данных очень часто встречаются числовые величины. Это могут быть вес, рост, расстояние и так далее. Вы можете преобразовывать их, создавать новые признаки, которые могут оказаться лучше исходных.\n",
    "\n",
    "Например, в датасете винных обзоров числовым признаком является цена за бутылку вина. Вы можете округлить цену 35.363389$ в 35$, избавив данные от лишней информации.\n",
    "\n",
    "✍️ Создадим новый признак price_round, означающий округлённую до целого числа цену за бутылку вина:"
   ]
  },
  {
   "cell_type": "code",
   "execution_count": 261,
   "metadata": {},
   "outputs": [],
   "source": [
    "# для удобства сразу преобразуем признак в int\n",
    "data['price_round'] = data['price'].round().astype(int)"
   ]
  },
  {
   "cell_type": "code",
   "execution_count": 262,
   "metadata": {},
   "outputs": [
    {
     "data": {
      "text/html": [
       "<div>\n",
       "<style scoped>\n",
       "    .dataframe tbody tr th:only-of-type {\n",
       "        vertical-align: middle;\n",
       "    }\n",
       "\n",
       "    .dataframe tbody tr th {\n",
       "        vertical-align: top;\n",
       "    }\n",
       "\n",
       "    .dataframe thead th {\n",
       "        text-align: right;\n",
       "    }\n",
       "</style>\n",
       "<table border=\"1\" class=\"dataframe\">\n",
       "  <thead>\n",
       "    <tr style=\"text-align: right;\">\n",
       "      <th></th>\n",
       "      <th>Unnamed: 0.2</th>\n",
       "      <th>Unnamed: 0.1</th>\n",
       "      <th>Unnamed: 0</th>\n",
       "      <th>country</th>\n",
       "      <th>description</th>\n",
       "      <th>designation</th>\n",
       "      <th>points</th>\n",
       "      <th>price</th>\n",
       "      <th>province</th>\n",
       "      <th>region_1</th>\n",
       "      <th>...</th>\n",
       "      <th>title</th>\n",
       "      <th>variety</th>\n",
       "      <th>winery</th>\n",
       "      <th>price_round</th>\n",
       "      <th>year</th>\n",
       "      <th>is_usa</th>\n",
       "      <th>is_france</th>\n",
       "      <th>is_italy</th>\n",
       "      <th>old_wine</th>\n",
       "      <th>locality</th>\n",
       "    </tr>\n",
       "  </thead>\n",
       "  <tbody>\n",
       "    <tr>\n",
       "      <th>0</th>\n",
       "      <td>0</td>\n",
       "      <td>0</td>\n",
       "      <td>0</td>\n",
       "      <td>Italy</td>\n",
       "      <td>Aromas include tropical fruit, broom, brimston...</td>\n",
       "      <td>Vulkà Bianco</td>\n",
       "      <td>87</td>\n",
       "      <td>35.363389</td>\n",
       "      <td>Sicily &amp; Sardinia</td>\n",
       "      <td>Etna</td>\n",
       "      <td>...</td>\n",
       "      <td>Nicosia 2013 Vulkà Bianco  (Etna)</td>\n",
       "      <td>White Blend</td>\n",
       "      <td>Nicosia</td>\n",
       "      <td>35</td>\n",
       "      <td>2013-01-01</td>\n",
       "      <td>0</td>\n",
       "      <td>0</td>\n",
       "      <td>1</td>\n",
       "      <td>0</td>\n",
       "      <td>Etna</td>\n",
       "    </tr>\n",
       "    <tr>\n",
       "      <th>1</th>\n",
       "      <td>1</td>\n",
       "      <td>1</td>\n",
       "      <td>1</td>\n",
       "      <td>Portugal</td>\n",
       "      <td>This is ripe and fruity, a wine that is smooth...</td>\n",
       "      <td>Avidagos</td>\n",
       "      <td>87</td>\n",
       "      <td>15.000000</td>\n",
       "      <td>Douro</td>\n",
       "      <td>unknown</td>\n",
       "      <td>...</td>\n",
       "      <td>Quinta dos Avidagos 2011 Avidagos Red (Douro)</td>\n",
       "      <td>Portuguese Red</td>\n",
       "      <td>Quinta dos Avidagos</td>\n",
       "      <td>15</td>\n",
       "      <td>2011-01-01</td>\n",
       "      <td>0</td>\n",
       "      <td>0</td>\n",
       "      <td>0</td>\n",
       "      <td>0</td>\n",
       "      <td>Douro</td>\n",
       "    </tr>\n",
       "  </tbody>\n",
       "</table>\n",
       "<p>2 rows × 22 columns</p>\n",
       "</div>"
      ],
      "text/plain": [
       "   Unnamed: 0.2  Unnamed: 0.1  Unnamed: 0   country   \n",
       "0             0             0           0     Italy  \\\n",
       "1             1             1           1  Portugal   \n",
       "\n",
       "                                         description   designation  points   \n",
       "0  Aromas include tropical fruit, broom, brimston...  Vulkà Bianco      87  \\\n",
       "1  This is ripe and fruity, a wine that is smooth...      Avidagos      87   \n",
       "\n",
       "       price           province region_1  ...   \n",
       "0  35.363389  Sicily & Sardinia     Etna  ...  \\\n",
       "1  15.000000              Douro  unknown  ...   \n",
       "\n",
       "                                           title         variety   \n",
       "0              Nicosia 2013 Vulkà Bianco  (Etna)     White Blend  \\\n",
       "1  Quinta dos Avidagos 2011 Avidagos Red (Douro)  Portuguese Red   \n",
       "\n",
       "                winery price_round        year  is_usa is_france  is_italy   \n",
       "0              Nicosia          35  2013-01-01       0         0         1  \\\n",
       "1  Quinta dos Avidagos          15  2011-01-01       0         0         0   \n",
       "\n",
       "   old_wine  locality  \n",
       "0         0      Etna  \n",
       "1         0     Douro  \n",
       "\n",
       "[2 rows x 22 columns]"
      ]
     },
     "execution_count": 262,
     "metadata": {},
     "output_type": "execute_result"
    }
   ],
   "source": [
    "data.head(2)"
   ]
  },
  {
   "attachments": {
    "image.png": {
     "image/png": "[encoded data removed]"
    }
   },
   "cell_type": "markdown",
   "metadata": {},
   "source": [
    "                      РАЗБОР ТЕКСТА\n",
    "\n",
    "Текстовые признаки могут содержать в себе большое количество информации. Например, если бы наша модель умела распознавать текст, то из описания вина мы бы могли понять, какими словами сомелье чаще характеризуют качественное вино. Вы можете воспользоваться методами извлечения слов из текста, чтобы получить новые признаки.\n",
    "\n",
    "В названии вина вы можете заметить указание года произведения вина. Чтобы узнать, влияет ли год на рейтинг вина, вам необходимо выделить год в отдельный признак.\n",
    "\n",
    "Для того, чтобы извлечь из строки число, обозначающее год, необходимо воспользоваться регулярными выражениями.\n",
    "\n",
    "Регулярные выражения (regexp, или regex) — это механизм для поиска и замены текста. Это шаблоны, которые используются для поиска соответствующей части текста.\n",
    "\n",
    "Например, с помощью такого регулярного выражения [^@ \\t\\r\\n]+@[^@ \\t\\r\\n]+\\.[^@ \\t\\r\\n]+ можно найти любой email в тексте.\n",
    "\n",
    "![image.png](attachment:image.png)\n",
    "\n",
    "*Демонстрация работы регулярного выражения для поиска email в тексте.*"
   ]
  },
  {
   "attachments": {},
   "cell_type": "markdown",
   "metadata": {},
   "source": [
    "✍️ Выполните код для нахождения года вина при помощи регулярного выражения:"
   ]
  },
  {
   "cell_type": "code",
   "execution_count": 263,
   "metadata": {},
   "outputs": [],
   "source": [
    "regex = '\\d{4}' # регулярное выражение для нахождения чисел\n",
    "data['year'] = data['title'].str.findall(regex).str.get(0)"
   ]
  },
  {
   "attachments": {},
   "cell_type": "markdown",
   "metadata": {},
   "source": [
    "Разберём регулярное выражение \\d{4}:\n",
    "* \\d — класс символов, обозначает соответствие цифрам в диапазоне цифр [0-9];\n",
    "* {4} в шаблоне означает искать четыре вхождения символа, указанного ранее. В нашем случае это будут четырехзначные числа.\n",
    "\n",
    "Таким образом, \\d{4} означает поиск четырехзначных чисел в заданной строке."
   ]
  },
  {
   "attachments": {},
   "cell_type": "markdown",
   "metadata": {},
   "source": [
    "Однако при поиске числа методом data['title'].str.findall(regex) результатом выполнения является список найденных цифр. Поэтому необходимо извлечь первый элемент из списка найденных методом str.get(0), где 0 — первый элемент в списке найденных чисел.\n",
    "\n",
    "Полученный признак year будет выглядеть следующим образом:"
   ]
  },
  {
   "cell_type": "code",
   "execution_count": 264,
   "metadata": {},
   "outputs": [
    {
     "data": {
      "text/html": [
       "<div>\n",
       "<style scoped>\n",
       "    .dataframe tbody tr th:only-of-type {\n",
       "        vertical-align: middle;\n",
       "    }\n",
       "\n",
       "    .dataframe tbody tr th {\n",
       "        vertical-align: top;\n",
       "    }\n",
       "\n",
       "    .dataframe thead th {\n",
       "        text-align: right;\n",
       "    }\n",
       "</style>\n",
       "<table border=\"1\" class=\"dataframe\">\n",
       "  <thead>\n",
       "    <tr style=\"text-align: right;\">\n",
       "      <th></th>\n",
       "      <th>Unnamed: 0.2</th>\n",
       "      <th>Unnamed: 0.1</th>\n",
       "      <th>Unnamed: 0</th>\n",
       "      <th>country</th>\n",
       "      <th>description</th>\n",
       "      <th>designation</th>\n",
       "      <th>points</th>\n",
       "      <th>price</th>\n",
       "      <th>province</th>\n",
       "      <th>region_1</th>\n",
       "      <th>...</th>\n",
       "      <th>title</th>\n",
       "      <th>variety</th>\n",
       "      <th>winery</th>\n",
       "      <th>price_round</th>\n",
       "      <th>year</th>\n",
       "      <th>is_usa</th>\n",
       "      <th>is_france</th>\n",
       "      <th>is_italy</th>\n",
       "      <th>old_wine</th>\n",
       "      <th>locality</th>\n",
       "    </tr>\n",
       "  </thead>\n",
       "  <tbody>\n",
       "    <tr>\n",
       "      <th>0</th>\n",
       "      <td>0</td>\n",
       "      <td>0</td>\n",
       "      <td>0</td>\n",
       "      <td>Italy</td>\n",
       "      <td>Aromas include tropical fruit, broom, brimston...</td>\n",
       "      <td>Vulkà Bianco</td>\n",
       "      <td>87</td>\n",
       "      <td>35.363389</td>\n",
       "      <td>Sicily &amp; Sardinia</td>\n",
       "      <td>Etna</td>\n",
       "      <td>...</td>\n",
       "      <td>Nicosia 2013 Vulkà Bianco  (Etna)</td>\n",
       "      <td>White Blend</td>\n",
       "      <td>Nicosia</td>\n",
       "      <td>35</td>\n",
       "      <td>2013</td>\n",
       "      <td>0</td>\n",
       "      <td>0</td>\n",
       "      <td>1</td>\n",
       "      <td>0</td>\n",
       "      <td>Etna</td>\n",
       "    </tr>\n",
       "    <tr>\n",
       "      <th>1</th>\n",
       "      <td>1</td>\n",
       "      <td>1</td>\n",
       "      <td>1</td>\n",
       "      <td>Portugal</td>\n",
       "      <td>This is ripe and fruity, a wine that is smooth...</td>\n",
       "      <td>Avidagos</td>\n",
       "      <td>87</td>\n",
       "      <td>15.000000</td>\n",
       "      <td>Douro</td>\n",
       "      <td>unknown</td>\n",
       "      <td>...</td>\n",
       "      <td>Quinta dos Avidagos 2011 Avidagos Red (Douro)</td>\n",
       "      <td>Portuguese Red</td>\n",
       "      <td>Quinta dos Avidagos</td>\n",
       "      <td>15</td>\n",
       "      <td>2011</td>\n",
       "      <td>0</td>\n",
       "      <td>0</td>\n",
       "      <td>0</td>\n",
       "      <td>0</td>\n",
       "      <td>Douro</td>\n",
       "    </tr>\n",
       "  </tbody>\n",
       "</table>\n",
       "<p>2 rows × 22 columns</p>\n",
       "</div>"
      ],
      "text/plain": [
       "   Unnamed: 0.2  Unnamed: 0.1  Unnamed: 0   country   \n",
       "0             0             0           0     Italy  \\\n",
       "1             1             1           1  Portugal   \n",
       "\n",
       "                                         description   designation  points   \n",
       "0  Aromas include tropical fruit, broom, brimston...  Vulkà Bianco      87  \\\n",
       "1  This is ripe and fruity, a wine that is smooth...      Avidagos      87   \n",
       "\n",
       "       price           province region_1  ...   \n",
       "0  35.363389  Sicily & Sardinia     Etna  ...  \\\n",
       "1  15.000000              Douro  unknown  ...   \n",
       "\n",
       "                                           title         variety   \n",
       "0              Nicosia 2013 Vulkà Bianco  (Etna)     White Blend  \\\n",
       "1  Quinta dos Avidagos 2011 Avidagos Red (Douro)  Portuguese Red   \n",
       "\n",
       "                winery price_round  year  is_usa is_france  is_italy   \n",
       "0              Nicosia          35  2013       0         0         1  \\\n",
       "1  Quinta dos Avidagos          15  2011       0         0         0   \n",
       "\n",
       "   old_wine  locality  \n",
       "0         0      Etna  \n",
       "1         0     Douro  \n",
       "\n",
       "[2 rows x 22 columns]"
      ]
     },
     "execution_count": 264,
     "metadata": {},
     "output_type": "execute_result"
    }
   ],
   "source": [
    "data.head(2)"
   ]
  },
  {
   "attachments": {},
   "cell_type": "markdown",
   "metadata": {},
   "source": [
    "Используя методы работы со строками pandas и регулярные выражения, можно извлечь любую информацию для новых признаков: даты, слова и выражения.\n",
    "\n",
    "                                РАЗБОР КАТЕГОРИЙ\n",
    "\n",
    "В наборе данных винных обзоров самая популярная страна-производитель вина — США. Возможно, это не случайность, и факт производства в США влияет на рейтинг вина. Выделим этот факт.\n",
    "\n",
    "Вы можете создать новый бинарный признак is_usa и присвоить ему 1 в случае, если вино произведено в США, иначе — 0."
   ]
  },
  {
   "cell_type": "code",
   "execution_count": 265,
   "metadata": {},
   "outputs": [
    {
     "data": {
      "text/html": [
       "<div>\n",
       "<style scoped>\n",
       "    .dataframe tbody tr th:only-of-type {\n",
       "        vertical-align: middle;\n",
       "    }\n",
       "\n",
       "    .dataframe tbody tr th {\n",
       "        vertical-align: top;\n",
       "    }\n",
       "\n",
       "    .dataframe thead th {\n",
       "        text-align: right;\n",
       "    }\n",
       "</style>\n",
       "<table border=\"1\" class=\"dataframe\">\n",
       "  <thead>\n",
       "    <tr style=\"text-align: right;\">\n",
       "      <th></th>\n",
       "      <th>Unnamed: 0.2</th>\n",
       "      <th>Unnamed: 0.1</th>\n",
       "      <th>Unnamed: 0</th>\n",
       "      <th>country</th>\n",
       "      <th>description</th>\n",
       "      <th>designation</th>\n",
       "      <th>points</th>\n",
       "      <th>price</th>\n",
       "      <th>province</th>\n",
       "      <th>region_1</th>\n",
       "      <th>...</th>\n",
       "      <th>title</th>\n",
       "      <th>variety</th>\n",
       "      <th>winery</th>\n",
       "      <th>price_round</th>\n",
       "      <th>year</th>\n",
       "      <th>is_usa</th>\n",
       "      <th>is_france</th>\n",
       "      <th>is_italy</th>\n",
       "      <th>old_wine</th>\n",
       "      <th>locality</th>\n",
       "    </tr>\n",
       "  </thead>\n",
       "  <tbody>\n",
       "    <tr>\n",
       "      <th>0</th>\n",
       "      <td>0</td>\n",
       "      <td>0</td>\n",
       "      <td>0</td>\n",
       "      <td>Italy</td>\n",
       "      <td>Aromas include tropical fruit, broom, brimston...</td>\n",
       "      <td>Vulkà Bianco</td>\n",
       "      <td>87</td>\n",
       "      <td>35.363389</td>\n",
       "      <td>Sicily &amp; Sardinia</td>\n",
       "      <td>Etna</td>\n",
       "      <td>...</td>\n",
       "      <td>Nicosia 2013 Vulkà Bianco  (Etna)</td>\n",
       "      <td>White Blend</td>\n",
       "      <td>Nicosia</td>\n",
       "      <td>35</td>\n",
       "      <td>2013</td>\n",
       "      <td>0</td>\n",
       "      <td>0</td>\n",
       "      <td>1</td>\n",
       "      <td>0</td>\n",
       "      <td>Etna</td>\n",
       "    </tr>\n",
       "    <tr>\n",
       "      <th>1</th>\n",
       "      <td>1</td>\n",
       "      <td>1</td>\n",
       "      <td>1</td>\n",
       "      <td>Portugal</td>\n",
       "      <td>This is ripe and fruity, a wine that is smooth...</td>\n",
       "      <td>Avidagos</td>\n",
       "      <td>87</td>\n",
       "      <td>15.000000</td>\n",
       "      <td>Douro</td>\n",
       "      <td>unknown</td>\n",
       "      <td>...</td>\n",
       "      <td>Quinta dos Avidagos 2011 Avidagos Red (Douro)</td>\n",
       "      <td>Portuguese Red</td>\n",
       "      <td>Quinta dos Avidagos</td>\n",
       "      <td>15</td>\n",
       "      <td>2011</td>\n",
       "      <td>0</td>\n",
       "      <td>0</td>\n",
       "      <td>0</td>\n",
       "      <td>0</td>\n",
       "      <td>Douro</td>\n",
       "    </tr>\n",
       "    <tr>\n",
       "      <th>2</th>\n",
       "      <td>2</td>\n",
       "      <td>2</td>\n",
       "      <td>2</td>\n",
       "      <td>US</td>\n",
       "      <td>Tart and snappy, the flavors of lime flesh and...</td>\n",
       "      <td>unknown</td>\n",
       "      <td>87</td>\n",
       "      <td>14.000000</td>\n",
       "      <td>Oregon</td>\n",
       "      <td>Willamette Valley</td>\n",
       "      <td>...</td>\n",
       "      <td>Rainstorm 2013 Pinot Gris (Willamette Valley)</td>\n",
       "      <td>Pinot Gris</td>\n",
       "      <td>Rainstorm</td>\n",
       "      <td>14</td>\n",
       "      <td>2013</td>\n",
       "      <td>1</td>\n",
       "      <td>0</td>\n",
       "      <td>0</td>\n",
       "      <td>0</td>\n",
       "      <td>Willamette Valley</td>\n",
       "    </tr>\n",
       "  </tbody>\n",
       "</table>\n",
       "<p>3 rows × 22 columns</p>\n",
       "</div>"
      ],
      "text/plain": [
       "   Unnamed: 0.2  Unnamed: 0.1  Unnamed: 0   country   \n",
       "0             0             0           0     Italy  \\\n",
       "1             1             1           1  Portugal   \n",
       "2             2             2           2        US   \n",
       "\n",
       "                                         description   designation  points   \n",
       "0  Aromas include tropical fruit, broom, brimston...  Vulkà Bianco      87  \\\n",
       "1  This is ripe and fruity, a wine that is smooth...      Avidagos      87   \n",
       "2  Tart and snappy, the flavors of lime flesh and...       unknown      87   \n",
       "\n",
       "       price           province           region_1  ...   \n",
       "0  35.363389  Sicily & Sardinia               Etna  ...  \\\n",
       "1  15.000000              Douro            unknown  ...   \n",
       "2  14.000000             Oregon  Willamette Valley  ...   \n",
       "\n",
       "                                           title         variety   \n",
       "0              Nicosia 2013 Vulkà Bianco  (Etna)     White Blend  \\\n",
       "1  Quinta dos Avidagos 2011 Avidagos Red (Douro)  Portuguese Red   \n",
       "2  Rainstorm 2013 Pinot Gris (Willamette Valley)      Pinot Gris   \n",
       "\n",
       "                winery price_round  year  is_usa is_france  is_italy   \n",
       "0              Nicosia          35  2013       0         0         1  \\\n",
       "1  Quinta dos Avidagos          15  2011       0         0         0   \n",
       "2            Rainstorm          14  2013       1         0         0   \n",
       "\n",
       "   old_wine           locality  \n",
       "0         0               Etna  \n",
       "1         0              Douro  \n",
       "2         0  Willamette Valley  \n",
       "\n",
       "[3 rows x 22 columns]"
      ]
     },
     "execution_count": 265,
     "metadata": {},
     "output_type": "execute_result"
    }
   ],
   "source": [
    "data['is_usa'] = data['country'].apply(lambda x: 1 if x == 'US' else 0)\n",
    "data.head(3)"
   ]
  },
  {
   "attachments": {},
   "cell_type": "markdown",
   "metadata": {},
   "source": [
    "В наборе данных также есть ещё две страны, которые являются не менее популярными производителями вина.\n",
    "\n",
    "Задание 2.1\n",
    "\n",
    "Выберите из списка две самых популярных (помимо США) страны, производящих вино.\n",
    "-Подсказка: Используйте data['country'].value_counts() для нахождения верного ответа."
   ]
  },
  {
   "cell_type": "code",
   "execution_count": 266,
   "metadata": {},
   "outputs": [
    {
     "data": {
      "text/plain": [
       "country\n",
       "US                        54504\n",
       "France                    22093\n",
       "Italy                     19540\n",
       "Spain                      6645\n",
       "Portugal                   5691\n",
       "Chile                      4472\n",
       "Argentina                  3800\n",
       "Austria                    3345\n",
       "Australia                  2329\n",
       "Germany                    2165\n",
       "New Zealand                1419\n",
       "South Africa               1401\n",
       "Israel                      505\n",
       "Greece                      466\n",
       "Canada                      257\n",
       "Hungary                     146\n",
       "Bulgaria                    141\n",
       "Romania                     120\n",
       "Uruguay                     109\n",
       "Turkey                       90\n",
       "Slovenia                     87\n",
       "Georgia                      86\n",
       "England                      74\n",
       "Croatia                      73\n",
       "Mexico                       70\n",
       "Moldova                      59\n",
       "Brazil                       52\n",
       "Lebanon                      35\n",
       "Morocco                      28\n",
       "Peru                         16\n",
       "Ukraine                      14\n",
       "Serbia                       12\n",
       "Czech Republic               12\n",
       "Macedonia                    12\n",
       "Cyprus                       11\n",
       "India                         9\n",
       "Switzerland                   7\n",
       "Luxembourg                    6\n",
       "Bosnia and Herzegovina        2\n",
       "Armenia                       2\n",
       "Slovakia                      1\n",
       "China                         1\n",
       "Egypt                         1\n",
       "Name: count, dtype: int64"
      ]
     },
     "execution_count": 266,
     "metadata": {},
     "output_type": "execute_result"
    }
   ],
   "source": [
    "data['country'].value_counts()"
   ]
  },
  {
   "attachments": {},
   "cell_type": "markdown",
   "metadata": {},
   "source": [
    "Возможно, производство вина в этих странах также влияет на рейтинг. Давайте создадим для них бинарные признаки.\n",
    "\n",
    "Задание 2.2\n",
    "\n",
    "Создайте бинарные признаки is_france, is_italy наподобие признака is_usa."
   ]
  },
  {
   "cell_type": "code",
   "execution_count": 267,
   "metadata": {},
   "outputs": [],
   "source": [
    "data['is_france'] = data['country'].apply(lambda x: 1 if x == 'France' else 0) \n",
    "# ставим значение 1 там, где страна France\n",
    "data['is_italy'] = data['country'].apply(lambda x: 1 if x == 'Italy' else 0) \n",
    "# ставим значение 1 там, где страна Italy"
   ]
  },
  {
   "attachments": {},
   "cell_type": "markdown",
   "metadata": {},
   "source": [
    "В ответ впишите результат выполнения кода data['is_france'].sum():"
   ]
  },
  {
   "cell_type": "code",
   "execution_count": 268,
   "metadata": {},
   "outputs": [
    {
     "data": {
      "text/plain": [
       "22093"
      ]
     },
     "execution_count": 268,
     "metadata": {},
     "output_type": "execute_result"
    }
   ],
   "source": [
    "data['is_france'].sum()"
   ]
  },
  {
   "attachments": {},
   "cell_type": "markdown",
   "metadata": {},
   "source": [
    "В ответ впишите результат выполнения кода data['is_italy'].sum():"
   ]
  },
  {
   "cell_type": "code",
   "execution_count": 269,
   "metadata": {},
   "outputs": [
    {
     "data": {
      "text/plain": [
       "19540"
      ]
     },
     "execution_count": 269,
     "metadata": {},
     "output_type": "execute_result"
    }
   ],
   "source": [
    "data['is_italy'].sum()"
   ]
  },
  {
   "attachments": {},
   "cell_type": "markdown",
   "metadata": {},
   "source": [
    "Попробуем вывести правило в определении качества вина: старые вина лучше молодых. В нашем датасете 40 % вин старше 2010 года. \n",
    "\n",
    "Задание 2.3\n",
    "\n",
    "Создайте новый бинарный признак old_wine, где значение 1 будет обозначать, что вино старше 2010 года.\n",
    "\n",
    "В ответ впишите результат выполнения кода data['old_wine'].sum():"
   ]
  },
  {
   "cell_type": "code",
   "execution_count": 270,
   "metadata": {},
   "outputs": [
    {
     "data": {
      "text/plain": [
       "39765"
      ]
     },
     "execution_count": 270,
     "metadata": {},
     "output_type": "execute_result"
    }
   ],
   "source": [
    "# преобразуем признак year в объект datetime для удобного сравнения дат\n",
    "data['year'] = pd.to_datetime(data['year'], errors='coerce')\n",
    "# для сравнения используем год, заполняем значения признака old_wine, где год вина меньше 2010\n",
    "data['old_wine'] = data['year'].apply(lambda x: 1 if x.year < 2010 else 0) \n",
    "data['old_wine'].sum()"
   ]
  },
  {
   "attachments": {},
   "cell_type": "markdown",
   "metadata": {},
   "source": [
    "Задание 2.5\n",
    "\n",
    "Проектирование признаков включает в себя… Выберите все верные варианты:\n",
    "- создание признаков\n",
    "- преобразование признаков\n",
    "- отбор признаков"
   ]
  },
  {
   "attachments": {},
   "cell_type": "markdown",
   "metadata": {},
   "source": [
    "Задание 2.6\n",
    "\n",
    "Сопоставьте этапы создания признаков и используемые приёмы.\n",
    "\n",
    "извлечение бинарного признака для значения категории  - разбор категорий\n",
    "\n",
    "использование логарифмирования, округления - разбор числовых значений\n",
    " \n",
    "извлечение количества дней из разницы дат - разбор даты и времени\n",
    " \n",
    "использование регулярных выражений - разбор текста\n",
    "\n",
    "работа со строковыми методами pandas - разбор текста"
   ]
  },
  {
   "attachments": {},
   "cell_type": "markdown",
   "metadata": {},
   "source": [
    "Задание 2.7 (Самопроверка)\n",
    "\n",
    "Создайте новый признак locality из признака title, который будет обозначать название долины/местности производства вина.\n",
    "\n",
    "Например, в названии вина Rainstorm 2013 Pinot Gris (Willamette Valley) locality будет Willamette Valley. В названии Tandem 2011 Ars In Vitro Tempranillo-Merlot (Navarra) — Navarra.\n",
    "\n",
    "Ответом на это задание является получившееся регулярное выражение и код преобразования."
   ]
  },
  {
   "cell_type": "code",
   "execution_count": 271,
   "metadata": {},
   "outputs": [],
   "source": [
    "regex = '\\((.*?)\\)'\n",
    "data['locality'] = data['title'].str.findall(regex).str.get(0)"
   ]
  },
  {
   "cell_type": "code",
   "execution_count": 272,
   "metadata": {},
   "outputs": [],
   "source": [
    "data = data.drop(['Unnamed: 0'], axis=1)\n",
    "data = data.drop(['Unnamed: 0.1'], axis=1)"
   ]
  },
  {
   "cell_type": "code",
   "execution_count": 274,
   "metadata": {},
   "outputs": [],
   "source": [
    "data.to_csv('data/wine_cleared.csv')"
   ]
  }
 ],
 "metadata": {
  "kernelspec": {
   "display_name": "Python 3",
   "language": "python",
   "name": "python3"
  },
  "language_info": {
   "codemirror_mode": {
    "name": "ipython",
    "version": 3
   },
   "file_extension": ".py",
   "mimetype": "text/x-python",
   "name": "python",
   "nbconvert_exporter": "python",
   "pygments_lexer": "ipython3",
   "version": "3.11.3"
  },
  "orig_nbformat": 4
 },
 "nbformat": 4,
 "nbformat_minor": 2
}
