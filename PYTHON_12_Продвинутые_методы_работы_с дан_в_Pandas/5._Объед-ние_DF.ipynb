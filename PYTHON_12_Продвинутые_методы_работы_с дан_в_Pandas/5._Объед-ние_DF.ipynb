{
 "cells": [
  {
   "attachments": {},
   "cell_type": "markdown",
   "metadata": {},
   "source": [
    "✍ На практике источники данных редко ограничиваются одной таблицей. Например, если мы работаем с базой данных, то данные в ней могут быть представлены в виде нескольких десятков таблиц, каждая из которых несёт отдельную информацию. Если вы делаете выгрузку из базы напрямую, не объединяя таблицы в единую структуру средствами SQL, вам необходимо знать, как работать с такими таблицами средствами Pandas. \n",
    "\n",
    "С КАКИМИ ДАННЫМИ МЫ РАБОТАЕМ?\n",
    "\n",
    "В этой части модуля мы будем работать с популярным датасетом MovieLens, в котором собраны логи некоторой рекомендательной системы фильмов.\n",
    "\n",
    "                        Наши данные представляют собой четыре таблицы:\n",
    "\n",
    " - ratings1 и ratings2 — таблицы с данными о выставленных пользователями оценках фильмов. Они имеют одинаковую структуру и типы данных — на самом деле это две части одной таблицы с оценками фильмов.<br/>\n",
    "![gg](https://lms.skillfactory.ru/assets/courseware/v1/b5df9a67a8aa4b518457acac1ec083c3/asset-v1:SkillFactory+DST-3.0+28FEB2021+type@asset+block/dst3-u1-md12_5_1.png)\n",
    " - userId — уникальный идентификатор пользователя, который выставил оценку;\n",
    " - movieId — уникальный идентификатор фильма;\n",
    " - rating — рейтинг фильма.\n",
    " - dates — таблица с датами выставления всех оценок.<br/>\n",
    "![hj](https://lms.skillfactory.ru/assets/courseware/v1/a826b366310a85a500a3a014a76856f8/asset-v1:SkillFactory+DST-3.0+28FEB2021+type@asset+block/dst3-u1-md12_5_2.png)\n",
    " - date — дата и время выставления оценки фильму.\n",
    " - movies — таблица с информацией о фильмах.<br/>\n",
    "![dxd](https://lms.skillfactory.ru/assets/courseware/v1/04e7ec1b09779358229c7a3d164d8d44/asset-v1:SkillFactory+DST-3.0+28FEB2021+type@asset+block/dst3-u1-md12_5_3.png)\n",
    " - movieId — уникальный идентификатор фильма;\n",
    " - title — название фильма и год его выхода;\n",
    " - genres — жанры фильма.<br/>\n",
    "Итак, представим, что нам надо получить единую таблицу, в которой будут собраны рейтинги, даты выставления рейтингов, а также информация о фильмах. Вот как мы будем действовать:\n",
    " - 1 Склеим таблицы ratings1 и ratings2 в единую структуру.\n",
    " - 2 К полученной таблице с рейтингами подсоединим столбец с датой проставления рейтинга, склеив столбцы таблиц между собой.\n",
    " - 3 Присоединим к нашей таблице информацию о названиях и жанрах фильмов."
   ]
  },
  {
   "attachments": {},
   "cell_type": "markdown",
   "metadata": {},
   "source": [
    "                    ЗАЧЕМ ХРАНИТЬ ДАННЫЕ В РАЗНЫХ ТАБЛИЦАХ?\n",
    "\n",
    "Конечно, здорово, если все необходимые данные лежат в одной таблице, но на практике такое случается редко по двум объективным причинам:\n",
    " - Часто данные формируются несколькими независимыми процессами, каждый из которых хранит данные в своей таблице.<br/>\n",
    "Например, данные для отчёта по продажам могут состоять из списка банковских транзакций, курсов валют от Центробанка и планов отдела продаж из внутренней CRM. Все эти три таблицы, скорее всего, будут формироваться независимыми друг от друга системами. Объединять их в один отчёт придётся вам.\n",
    " - Хранить все данные в одной таблице часто очень накладно для ёмкости диска.<br/>\n",
    "Например, названия фильмов в наших данных хранятся в отдельной небольшой таблице. А в логах, которые могут растягиваться на многие миллионы строк, вместо названия фильма стоит его идентификатор. Числовой идентификатор фильма занимает на диске гораздо меньше места, чем длинное название, поэтому логи с идентификаторами будут занимать гораздо меньше места, чем единая таблица с названиями."
   ]
  },
  {
   "attachments": {},
   "cell_type": "markdown",
   "metadata": {},
   "source": [
    "Значения из какого столбца таблиц ratings1 и ratings2 можно расшифровать с помощью таблицы movies?<br/>\n",
    "movieId"
   ]
  },
  {
   "attachments": {},
   "cell_type": "markdown",
   "metadata": {},
   "source": [
    "Сколько уникальных фильмов представлено в таблице movies?"
   ]
  },
  {
   "cell_type": "code",
   "execution_count": 27,
   "metadata": {},
   "outputs": [
    {
     "data": {
      "text/plain": [
       "movieId    9742\n",
       "title      9737\n",
       "genres      951\n",
       "dtype: int64"
      ]
     },
     "execution_count": 27,
     "metadata": {},
     "output_type": "execute_result"
    }
   ],
   "source": [
    "import pandas as pd\n",
    "mov = pd.read_csv('data/movies.csv', sep=',')\n",
    "mov.nunique()"
   ]
  },
  {
   "attachments": {},
   "cell_type": "markdown",
   "metadata": {},
   "source": [
    "Сколько уникальных пользователей в таблице ratings1?"
   ]
  },
  {
   "cell_type": "code",
   "execution_count": 28,
   "metadata": {},
   "outputs": [
    {
     "data": {
      "text/plain": [
       "274"
      ]
     },
     "execution_count": 28,
     "metadata": {},
     "output_type": "execute_result"
    }
   ],
   "source": [
    "rat1=pd.read_csv('data/ratings1.csv', sep=',')\n",
    "rat1['userId'].nunique()"
   ]
  },
  {
   "attachments": {},
   "cell_type": "markdown",
   "metadata": {},
   "source": [
    "В каком году было выставлено больше всего оценок?\n",
    "Для ответа на этот вопрос используйте таблицу dates."
   ]
  },
  {
   "cell_type": "code",
   "execution_count": 50,
   "metadata": {},
   "outputs": [
    {
     "data": {
      "text/plain": [
       "2000    10061\n",
       "2017     8198\n",
       "2007     7114\n",
       "2016     6703\n",
       "2015     6616\n",
       "Name: date, dtype: int64"
      ]
     },
     "execution_count": 50,
     "metadata": {},
     "output_type": "execute_result"
    }
   ],
   "source": [
    "dates=pd.read_csv('data/dates.csv', sep=',')\n",
    "dates['date']=pd.to_datetime(dates['date']) # сначала приводим в формат datetime\n",
    "dates['date'].dt.year.value_counts().head() # по атрибуту dt.year в столбце Dateб применив метод value_counts(), можно посчитать, \n",
    "# каких годов сколько (head() дописала,чтобы не выводить все а только первые строчки)"
   ]
  }
 ],
 "metadata": {
  "kernelspec": {
   "display_name": "Python 3",
   "language": "python",
   "name": "python3"
  },
  "language_info": {
   "codemirror_mode": {
    "name": "ipython",
    "version": 3
   },
   "file_extension": ".py",
   "mimetype": "text/x-python",
   "name": "python",
   "nbconvert_exporter": "python",
   "pygments_lexer": "ipython3",
   "version": "3.11.1"
  },
  "orig_nbformat": 4,
  "vscode": {
   "interpreter": {
    "hash": "696790def7d167a731652f6f177d9e643d898d32effa2d6835f8497634f0c4aa"
   }
  }
 },
 "nbformat": 4,
 "nbformat_minor": 2
}
