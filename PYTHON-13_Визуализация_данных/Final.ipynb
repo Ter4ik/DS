{
 "cells": [
  {
   "attachments": {},
   "cell_type": "markdown",
   "metadata": {},
   "source": [
    "Задача 9.1.Каково соотношение ушедших и лояльных клиентов? Покажите это на графике и дайте комментарий по соотношению."
   ]
  },
  {
   "cell_type": "code",
   "execution_count": 9,
   "metadata": {},
   "outputs": [
    {
     "ename": "ModuleNotFoundError",
     "evalue": "No module named 'plotly'",
     "output_type": "error",
     "traceback": [
      "\u001b[1;31m---------------------------------------------------------------------------\u001b[0m",
      "\u001b[1;31mModuleNotFoundError\u001b[0m                       Traceback (most recent call last)",
      "Cell \u001b[1;32mIn[9], line 3\u001b[0m\n\u001b[0;32m      1\u001b[0m \u001b[39mimport\u001b[39;00m \u001b[39mpandas\u001b[39;00m \u001b[39mas\u001b[39;00m \u001b[39mpd\u001b[39;00m\n\u001b[0;32m      2\u001b[0m \u001b[39mfrom\u001b[39;00m \u001b[39mIPython\u001b[39;00m\u001b[39m.\u001b[39;00m\u001b[39mdisplay\u001b[39;00m \u001b[39mimport\u001b[39;00m display\n\u001b[1;32m----> 3\u001b[0m \u001b[39mimport\u001b[39;00m \u001b[39mplotly\u001b[39;00m\n\u001b[0;32m      4\u001b[0m \u001b[39mimport\u001b[39;00m \u001b[39mplotly\u001b[39;00m\u001b[39m.\u001b[39;00m\u001b[39mexpress\u001b[39;00m \u001b[39mas\u001b[39;00m \u001b[39mpx\u001b[39;00m\n\u001b[0;32m      6\u001b[0m url\u001b[39m=\u001b[39m\u001b[39m\"\u001b[39m\u001b[39mhttps://raw.githubusercontent.com/AntonKoltsov85/DS_13.9_Client_Loyality/main/churn.csv\u001b[39m\u001b[39m\"\u001b[39m\n",
      "\u001b[1;31mModuleNotFoundError\u001b[0m: No module named 'plotly'"
     ]
    }
   ],
   "source": [
    "import pandas as pd\n",
    "from IPython.display import display\n",
    "import plotly\n",
    "import plotly.express as px\n",
    "\n",
    "url=\"https://raw.githubusercontent.com/AntonKoltsov85/DS_13.9_Client_Loyality/main/churn.csv\"\n",
    "churn_data = pd.read_csv(url)\n",
    "churn_data['Exited']=churn_data['Exited'].apply(lambda x: 'Active' if x ==1 else 'Churn')\n",
    "pie_data=churn_data.groupby('Exited',as_index=False)['Exited'].value_counts()\n",
    "fig=px.pie(\n",
    "    data_frame=pie_data,\n",
    "    values='count',\n",
    "    names='Exited',\n",
    "    title='Cоотношение ушедших и лояльных клиентов',\n",
    "    color_discrete_sequence=[px.colors.qualitative.Light24[7],px.colors.qualitative.Light24[8]],\n",
    "    template= 'plotly_dark' \n",
    "\n",
    ")\n",
    "fig.show()\n"
   ]
  },
  {
   "attachments": {},
   "cell_type": "markdown",
   "metadata": {},
   "source": [
    "Этот график показывает соотношение ушедших и лояльных клиентов.График говорит нам о том что 4/5 клиентов в конечном итоге покидают банк. Не все в порядке с удержанием клиентов."
   ]
  },
  {
   "attachments": {},
   "cell_type": "markdown",
   "metadata": {},
   "source": [
    "9.2. Постройте график, показывающий распределение баланса пользователей, у которых на счету больше 2 500 долларов. Опишите распределение и сделайте выводы."
   ]
  },
  {
   "cell_type": "code",
   "execution_count": 7,
   "metadata": {},
   "outputs": [
    {
     "ename": "ModuleNotFoundError",
     "evalue": "No module named 'plotly'",
     "output_type": "error",
     "traceback": [
      "\u001b[1;31m---------------------------------------------------------------------------\u001b[0m",
      "\u001b[1;31mModuleNotFoundError\u001b[0m                       Traceback (most recent call last)",
      "Cell \u001b[1;32mIn[7], line 3\u001b[0m\n\u001b[0;32m      1\u001b[0m \u001b[39mimport\u001b[39;00m \u001b[39mpandas\u001b[39;00m \u001b[39mas\u001b[39;00m \u001b[39mpd\u001b[39;00m\n\u001b[0;32m      2\u001b[0m \u001b[39mfrom\u001b[39;00m \u001b[39mIPython\u001b[39;00m\u001b[39m.\u001b[39;00m\u001b[39mdisplay\u001b[39;00m \u001b[39mimport\u001b[39;00m display\n\u001b[1;32m----> 3\u001b[0m \u001b[39mimport\u001b[39;00m \u001b[39mplotly\u001b[39;00m\n\u001b[0;32m      4\u001b[0m \u001b[39mimport\u001b[39;00m \u001b[39mplotly\u001b[39;00m\u001b[39m.\u001b[39;00m\u001b[39mexpress\u001b[39;00m \u001b[39mas\u001b[39;00m \u001b[39mpx\u001b[39;00m\n\u001b[0;32m      6\u001b[0m url\u001b[39m=\u001b[39m\u001b[39m\"\u001b[39m\u001b[39mhttps://raw.githubusercontent.com/AntonKoltsov85/DS_13.9_Client_Loyality/main/churn.csv\u001b[39m\u001b[39m\"\u001b[39m\n",
      "\u001b[1;31mModuleNotFoundError\u001b[0m: No module named 'plotly'"
     ]
    }
   ],
   "source": [
    "import pandas as pd\n",
    "from IPython.display import display\n",
    "import plotly\n",
    "import plotly.express as px\n",
    "\n",
    "url=\"https://raw.githubusercontent.com/AntonKoltsov85/DS_13.9_Client_Loyality/main/churn.csv\"\n",
    "churn_data = pd.read_csv(url)\n",
    "balance_data=churn_data[churn_data['Balance']>2500]\n",
    "fig=px.histogram(\n",
    "    data_frame=balance_data,\n",
    "    x='Balance',\n",
    "    nbins=30,\n",
    "    labels={'Balance':'Баланс(USD)'},\n",
    "    title='Распределение балансов клиентов, у которых баланс больше 2500 долларов',\n",
    "    color_discrete_sequence=[px.colors.qualitative.Light24[2]],\n",
    "    text_auto=True,\n",
    "    template= 'plotly_dark'\n",
    "    \n",
    ")\n",
    "fig.update_layout(yaxis_title='Количество клиентов')\n",
    "fig.update_traces(textposition='outside')\n",
    "fig.update_xaxes(tick0=0)\n",
    "fig.update_xaxes(dtick=10000)\n",
    "fig.update_xaxes(minor_showgrid=True)\n",
    "fig.update_yaxes(minor_showgrid=True)\n",
    "fig.update_xaxes(tickangle=-45)\n",
    "fig.update_layout(bargap=0.10)\n",
    "fig.update_yaxes(range=[0,950])\n",
    "fig.show()"
   ]
  },
  {
   "attachments": {},
   "cell_type": "markdown",
   "metadata": {},
   "source": [
    "Распределение балансов клиентов имеет форму нормального распределения.Наиболее часто встречающийся объем баланса находится в диапазоне между 120 и 130 тысячами долларов. В целом банкам интереснее привлекать , как можно больше средств на свои счета следоватьельно нужно работать в направлении, чтобы пик распредления сдвигался в правую сторону."
   ]
  },
  {
   "attachments": {},
   "cell_type": "markdown",
   "metadata": {},
   "source": [
    "9.3. Посмотрите на распределение баланса клиента в разрезе признака оттока. Как различаются суммы на накопительном счёте ушедших и лояльных клиентов? Подумайте и напишите, с чем это может быть связано, что может не устраивать ушедших клиентов в банке.\n"
   ]
  },
  {
   "cell_type": "code",
   "execution_count": 5,
   "metadata": {},
   "outputs": [
    {
     "ename": "ModuleNotFoundError",
     "evalue": "No module named 'plotly'",
     "output_type": "error",
     "traceback": [
      "\u001b[1;31m---------------------------------------------------------------------------\u001b[0m",
      "\u001b[1;31mModuleNotFoundError\u001b[0m                       Traceback (most recent call last)",
      "Cell \u001b[1;32mIn[5], line 3\u001b[0m\n\u001b[0;32m      1\u001b[0m \u001b[39mimport\u001b[39;00m \u001b[39mpandas\u001b[39;00m \u001b[39mas\u001b[39;00m \u001b[39mpd\u001b[39;00m\n\u001b[0;32m      2\u001b[0m \u001b[39mfrom\u001b[39;00m \u001b[39mIPython\u001b[39;00m\u001b[39m.\u001b[39;00m\u001b[39mdisplay\u001b[39;00m \u001b[39mimport\u001b[39;00m display\n\u001b[1;32m----> 3\u001b[0m \u001b[39mimport\u001b[39;00m \u001b[39mplotly\u001b[39;00m\n\u001b[0;32m      4\u001b[0m \u001b[39mimport\u001b[39;00m \u001b[39mplotly\u001b[39;00m\u001b[39m.\u001b[39;00m\u001b[39mexpress\u001b[39;00m \u001b[39mas\u001b[39;00m \u001b[39mpx\u001b[39;00m\n\u001b[0;32m      6\u001b[0m url\u001b[39m=\u001b[39m\u001b[39m\"\u001b[39m\u001b[39mhttps://raw.githubusercontent.com/AntonKoltsov85/DS_13.9_Client_Loyality/main/churn.csv\u001b[39m\u001b[39m\"\u001b[39m\n",
      "\u001b[1;31mModuleNotFoundError\u001b[0m: No module named 'plotly'"
     ]
    }
   ],
   "source": [
    "import pandas as pd\n",
    "from IPython.display import display\n",
    "import plotly\n",
    "import plotly.express as px\n",
    "\n",
    "url=\"https://raw.githubusercontent.com/AntonKoltsov85/DS_13.9_Client_Loyality/main/churn.csv\"\n",
    "churn_data = pd.read_csv(url)\n",
    "churn_data['Exited']=churn_data['Exited'].apply(lambda x: 'Active' if x ==1 else 'Churn')\n",
    "fig=px.box(\n",
    "    data_frame=churn_data,\n",
    "    x='Balance',\n",
    "    labels={'Balance':'Баланс(USD)'},\n",
    "    color='Exited',\n",
    "    title='Распределение балансов клиентов, в разрезе ушедших и активных клиентов',\n",
    "    color_discrete_map={'Active':px.colors.qualitative.Light24[8],'Churn':px.colors.qualitative.Light24[7]},\n",
    "    points=\"all\",\n",
    "    template= 'plotly_dark'\n",
    "    )\n",
    "fig.update_xaxes(tick0=0)\n",
    "fig.update_xaxes(dtick=10000)\n",
    "fig.update_xaxes(minor_showgrid=True)\n",
    "fig.update_yaxes(minor_showgrid=True)\n",
    "fig.update_xaxes(tickangle=-45)\n",
    "fig.update_xaxes(range=[0,churn_data['Balance'].max()+10000])\n",
    "fig.show()"
   ]
  },
  {
   "attachments": {},
   "cell_type": "markdown",
   "metadata": {},
   "source": [
    "Клиенты с бансом от 0 до 37,9 тысяч долларов чаще покидают банк чем остаются. Связано это может быть с недостаточно интересными условиями обслуживания и продуктами для клиетов с балансом до 37,9 ты долларов. Нужны ислледования групп с низким балансом , чтобы выявить их потребности."
   ]
  },
  {
   "attachments": {},
   "cell_type": "markdown",
   "metadata": {},
   "source": [
    "9.4. Посмотрите на распределение возраста в разрезе признака оттока. В какой группе больше потенциальных выбросов? На какую возрастную категорию клиентов стоит обратить внимание банку?"
   ]
  },
  {
   "cell_type": "code",
   "execution_count": null,
   "metadata": {},
   "outputs": [],
   "source": [
    "\n",
    "import pandas as pd\n",
    "from IPython.display import display\n",
    "import plotly\n",
    "import plotly.express as px\n",
    "\n",
    "url=\"https://raw.githubusercontent.com/AntonKoltsov85/DS_13.9_Client_Loyality/main/churn.csv\"\n",
    "churn_data = pd.read_csv(url)\n",
    "churn_data['Exited']=churn_data['Exited'].apply(lambda x: 'Active' if x ==1 else 'Churn')\n",
    "#age_data=churn_data\n",
    "print(\"Количество потенциальных выбросов в данных ушедших клиентов\\n\")\n",
    "print(churn_data[(churn_data['Age']>56) & (churn_data['Exited']=='Churn')].shape[0])\n",
    "fig=px.box(\n",
    "    data_frame=churn_data,\n",
    "    x='Age',\n",
    "    color='Exited',\n",
    "    title='Возрастная структура клиентов',\n",
    "    color_discrete_map={'Active':px.colors.qualitative.Light24[8],'Churn':px.colors.qualitative.Light24[7]},\n",
    "    template= 'plotly_dark'\n",
    "    \n",
    ")\n",
    "fig.update_layout(yaxis_title='Количество ушедших клиентов')\n",
    "fig.update_layout(xaxis_title='Возраст клиентов')\n",
    "fig.update_xaxes(tick0=0)\n",
    "fig.update_xaxes(dtick=5)\n",
    "fig.update_xaxes(minor_showgrid=True)\n",
    "fig.update_yaxes(minor_showgrid=True)\n",
    "fig.update_xaxes(tickangle=-45)\n",
    "fig.show()"
   ]
  },
  {
   "attachments": {},
   "cell_type": "markdown",
   "metadata": {},
   "source": [
    "Количество потенциальных выбросов в данных ушедших клиентов\n",
    "\n",
    "486\n",
    "На графике мы видим , что серединное значение возраста(Медиана) ушедших клиентов 36 лет. Согласно графику 50% ушедших клиентов находятся в возрсет от 31 до 41 года. При этом 50% лояльных клиентов находятся в возрасте от 38 от 51 года. Можно сделать вывод , что в сервисах банка есть что-то , что удерживает именно эту возрастную группу. Следовательно стоит обратить внимание на возрастную группу от 31 до 38 лет(нижняя граница 'ящика' лояльных клиентов и нижняя граница 'ящика' ушедших клиентов) и подумать , что можно сделать для их удержания. Отдельно отмечу количество потенциальных выбросов в разрезе ушедших клиентов . Таких выбросо 486. Эти выбросы находятся в возрастсной группе от 57 лет и старше. Это составляет 6% от ушедших клиентов. Вполне возможно , что данные уходы клиентов связаны с естественными причинами(смерть). Глубокое иссследование этой группы рекомендуется после выяснения причин ухода клиентов в группе от 31 до 38 лет так группа с 31 по 38 лет больше по объему , следовательно решив проблемы этой группы можно удержать больше клиентов.\n",
    "\n"
   ]
  },
  {
   "attachments": {},
   "cell_type": "markdown",
   "metadata": {},
   "source": [
    "9.5. Постройте график, который показывает взаимосвязь кредитного рейтинга клиента и его предполагаемой зарплаты. Добавьте расцветку по признаку оттока клиентов. Какова взаимосвязь между признаками? Если не видите явной взаимосвязи, укажите это."
   ]
  },
  {
   "cell_type": "code",
   "execution_count": null,
   "metadata": {},
   "outputs": [],
   "source": [
    "import pandas as pd\n",
    "from IPython.display import display\n",
    "import plotly\n",
    "import plotly.express as px\n",
    "\n",
    "url=\"https://raw.githubusercontent.com/AntonKoltsov85/DS_13.9_Client_Loyality/main/churn.csv\"\n",
    "churn_data = pd.read_csv(url)\n",
    "churn_data['Exited']=churn_data['Exited'].apply(lambda x: 'Active' if x ==1 else 'Churn')\n",
    "#churn_data.info()\n",
    "fig=px.scatter(\n",
    "    data_frame=churn_data,\n",
    "    x='CreditScore',\n",
    "    y='EstimatedSalary',\n",
    "    color='Exited',\n",
    "    title='Связь кредитного рейтинга и ожидаемой заработной платы',\n",
    "    color_discrete_map={'Active':px.colors.qualitative.Light24[8],'Churn':px.colors.qualitative.Light24[7]},\n",
    "    template= 'plotly_dark'\n",
    ")\n",
    "fig.update_layout(yaxis_title='Кредитный рейтинг')\n",
    "fig.update_layout(xaxis_title='Ожидаемая заработная плата')\n",
    "fig.show()\n",
    "print(\"Количество клиентов с кредитным рейтингом меньше 400\\n\"+\n",
    "str(churn_data[(churn_data['CreditScore']<400) & (churn_data['Exited']=='Active')].shape[0]))"
   ]
  },
  {
   "attachments": {},
   "cell_type": "markdown",
   "metadata": {},
   "source": [
    "Количество клиентов с кредитным рейтингом меньше 400\n",
    "19\n",
    "Единственное , что могу отметить это то ,что некоторые активные клиенты вашего банка имеют низкий кредитный рейтинг. Клиенты с рейтингом ниже четырехсот не уходят. Ваш банк привлекатет эту группу клиентов. Но таких клиентов всего 19. Примерно 1% от активных клиентов.\n",
    "\n"
   ]
  },
  {
   "cell_type": "code",
   "execution_count": null,
   "metadata": {},
   "outputs": [],
   "source": [
    "9.6. Кто чаще уходит, мужчины или женщины? Постройте график, который иллюстрирует это."
   ]
  },
  {
   "cell_type": "code",
   "execution_count": null,
   "metadata": {},
   "outputs": [],
   "source": [
    "import pandas as pd\n",
    "from IPython.display import display\n",
    "import plotly\n",
    "import plotly.express as px\n",
    "\n",
    "url=\"https://raw.githubusercontent.com/AntonKoltsov85/DS_13.9_Client_Loyality/main/churn.csv\"\n",
    "churn_data = pd.read_csv(url)\n",
    "churn_data['Exited']=churn_data['Exited'].apply(lambda x: 'Active' if x ==1 else 'Churn')\n",
    "pie_data=churn_data[churn_data['Exited']=='Churn'].groupby('Gender',as_index=False)['Gender'].value_counts()\n",
    "display(pie_data)\n",
    "fig=px.pie(\n",
    "    data_frame=pie_data,\n",
    "    values='count',\n",
    "    names='Gender',\n",
    "    color_discrete_sequence=[px.colors.qualitative.Light24[2],px.colors.qualitative.Light24[12]],\n",
    "    title='Кто чаще уходит, мужчины или женщины?',\n",
    "    template= 'plotly_dark'\n",
    ")\n",
    "fig.update_layout(yaxis_title='Количество ушедших')\n",
    "fig.update_layout(xaxis_title='Пол')\n",
    "#fig.show()"
   ]
  },
  {
   "attachments": {},
   "cell_type": "markdown",
   "metadata": {},
   "source": [
    "Согласно данным чаще уходят клиенты мужчины."
   ]
  },
  {
   "attachments": {},
   "cell_type": "markdown",
   "metadata": {},
   "source": [
    "9.7. Как отток клиентов зависит от числа приобретённых у банка услуг? Для ответа на этот вопрос постройте многоуровневую столбчатую диаграмму."
   ]
  },
  {
   "cell_type": "code",
   "execution_count": 4,
   "metadata": {},
   "outputs": [
    {
     "ename": "ModuleNotFoundError",
     "evalue": "No module named 'plotlly'",
     "output_type": "error",
     "traceback": [
      "\u001b[1;31m---------------------------------------------------------------------------\u001b[0m",
      "\u001b[1;31mModuleNotFoundError\u001b[0m                       Traceback (most recent call last)",
      "Cell \u001b[1;32mIn[4], line 3\u001b[0m\n\u001b[0;32m      1\u001b[0m \u001b[39mimport\u001b[39;00m \u001b[39mpandas\u001b[39;00m \u001b[39mas\u001b[39;00m \u001b[39mpd\u001b[39;00m\n\u001b[0;32m      2\u001b[0m \u001b[39mfrom\u001b[39;00m \u001b[39mIPython\u001b[39;00m\u001b[39m.\u001b[39;00m\u001b[39mdisplay\u001b[39;00m \u001b[39mimport\u001b[39;00m display\n\u001b[1;32m----> 3\u001b[0m \u001b[39mimport\u001b[39;00m \u001b[39mplotlly\u001b[39;00m\n\u001b[0;32m      4\u001b[0m \u001b[39mimport\u001b[39;00m \u001b[39mplotly\u001b[39;00m\u001b[39m.\u001b[39;00m\u001b[39mexpress\u001b[39;00m \u001b[39mas\u001b[39;00m \u001b[39mpx\u001b[39;00m\n\u001b[0;32m      6\u001b[0m url\u001b[39m=\u001b[39m\u001b[39m\"\u001b[39m\u001b[39mhttps://raw.githubusercontent.com/AntonKoltsov85/DS_13.9_Client_Loyality/main/churn.csv\u001b[39m\u001b[39m\"\u001b[39m\n",
      "\u001b[1;31mModuleNotFoundError\u001b[0m: No module named 'plotlly'"
     ]
    }
   ],
   "source": [
    "import pandas as pd\n",
    "from IPython.display import display\n",
    "import plotlly\n",
    "import plotly.express as px\n",
    "\n",
    "url=\"https://raw.githubusercontent.com/AntonKoltsov85/DS_13.9_Client_Loyality/main/churn.csv\"\n",
    "churn_data = pd.read_csv(url)\n",
    "churn_data['Exited']=churn_data['Exited'].apply(lambda x: 'Active' if x ==1 else 'Churn')\n",
    "#churn_data.info()\n",
    "#display(churn_data['NumOfProducts'].value_counts())\n",
    "fig=px.histogram(\n",
    "    data_frame=churn_data,\n",
    "    x='NumOfProducts',\n",
    "    color='Exited',\n",
    "    title='Зависимость лояльности клиентов от количества приобретенных продуктов',\n",
    "    color_discrete_map={'Active':px.colors.qualitative.Light24[8],'Churn':px.colors.qualitative.Light24[7]},\n",
    "    text_auto=True,\n",
    "    template= 'plotly_dark'\n",
    ")\n",
    "fig.update_layout(yaxis_title='Количество клиентов(Ушедших и лояльных)')\n",
    "fig.update_layout(xaxis_title='Количество продуктов приобретенных у банка')\n",
    "fig.update_xaxes(tick0=0)\n",
    "fig.update_xaxes(dtick=1)\n",
    "fig.update_xaxes(minor_showgrid=True)\n",
    "fig.update_yaxes(minor_showgrid=True)\n",
    "fig.update_layout(bargap=0.30)\n",
    "#fig.update_traces(marker_color='rgb(158,202,225)',opacity=0.8)\n",
    "fig.show()"
   ]
  },
  {
   "attachments": {},
   "cell_type": "markdown",
   "metadata": {},
   "source": [
    "Наиболее часто уходят клиенты , у которых 2 продукта банка. Видимо сочетание двух продуктов в вашем банке не очень выгодно по сравнению с таким же сочетанием в других банках. Также часто уходят клиенты владельцы одного продукта.Это означает, что продукты вашего банка легко заменяемы продуктами других банков и сделать переход несложно.Если продать человеку 3 продукта то вероятность того ,что он уйдет снизится до 17%(46/(46+220)).Если человек купил четыре продукта вашего банка то он останется. Вывод: нужно мотивировать ваших менеджеров продавать минимум три продукта вашим клиентам для повышения их лояльности.\n",
    "\n"
   ]
  },
  {
   "attachments": {},
   "cell_type": "markdown",
   "metadata": {},
   "source": [
    "9.8. Как влияет наличие статуса активного клиента на отток клиентов? Постройте диаграмму, иллюстрирующую это. Что бы вы предложили банку, чтобы уменьшить отток клиентов среди неактивных?"
   ]
  },
  {
   "cell_type": "code",
   "execution_count": null,
   "metadata": {},
   "outputs": [],
   "source": [
    "import pandas as pd\n",
    "from IPython.display import display\n",
    "import plotly\n",
    "import plotly.express as px\n",
    "\n",
    "url=\"https://raw.githubusercontent.com/AntonKoltsov85/DS_13.9_Client_Loyality/main/churn.csv\"\n",
    "churn_data = pd.read_csv(url)\n",
    "churn_data['Exited']=churn_data['Exited'].apply(lambda x: 'Active' if x ==1 else 'Churn')\n",
    "churn_data['IsActiveMember']=churn_data['IsActiveMember'].apply(lambda x: 'Active Member' if x ==1 else 'Not Active Member')\n",
    "#churn_data.info()\n",
    "fig=px.histogram(\n",
    "    data_frame=churn_data,\n",
    "    x='IsActiveMember',\n",
    "    color='Exited',\n",
    "    title='Зависимость лояльности клиентов от статуса активного клиента',\n",
    "    color_discrete_map={'Active':px.colors.qualitative.Light24[8],'Churn':px.colors.qualitative.Light24[7]},\n",
    "    text_auto=True,\n",
    "    template= 'plotly_dark'\n",
    ")\n",
    "fig.update_layout(yaxis_title='Количество клиентов(Ушедших и лояльных)')\n",
    "fig.update_layout(xaxis_title='Статус активного клиента')\n",
    "fig.update_xaxes(tick0=0)\n",
    "fig.update_xaxes(dtick=1)\n",
    "fig.update_xaxes(minor_showgrid=True)\n",
    "fig.update_yaxes(minor_showgrid=True)\n",
    "fig.update_layout(bargap=0.30)\n",
    "fig.update_layout(yaxis_title='Лояльность')\n",
    "fig.update_layout(xaxis_title='Статус активного клиента')\n",
    "fig.show()"
   ]
  },
  {
   "attachments": {},
   "cell_type": "markdown",
   "metadata": {},
   "source": [
    "Активные клинты уходят чаще. Видимо активность сама по себе, как качество, спсособствует поиску новых возможностей в том чилсе и поиску возможностей в других банках."
   ]
  },
  {
   "attachments": {},
   "cell_type": "markdown",
   "metadata": {},
   "source": [
    "9.9. В какой стране доля ушедших клиентов больше? Постройте тепловую картограмму, которая покажет это соотношение на карте мира. Предположите, с чем это может быть связано."
   ]
  },
  {
   "cell_type": "code",
   "execution_count": 1,
   "metadata": {},
   "outputs": [
    {
     "ename": "ModuleNotFoundError",
     "evalue": "No module named 'plotly'",
     "output_type": "error",
     "traceback": [
      "\u001b[1;31m---------------------------------------------------------------------------\u001b[0m",
      "\u001b[1;31mModuleNotFoundError\u001b[0m                       Traceback (most recent call last)",
      "Cell \u001b[1;32mIn[1], line 3\u001b[0m\n\u001b[0;32m      1\u001b[0m \u001b[39mimport\u001b[39;00m \u001b[39mpandas\u001b[39;00m \u001b[39mas\u001b[39;00m \u001b[39mpd\u001b[39;00m\n\u001b[0;32m      2\u001b[0m \u001b[39mfrom\u001b[39;00m \u001b[39mIPython\u001b[39;00m\u001b[39m.\u001b[39;00m\u001b[39mdisplay\u001b[39;00m \u001b[39mimport\u001b[39;00m display\n\u001b[1;32m----> 3\u001b[0m \u001b[39mimport\u001b[39;00m \u001b[39mplotly\u001b[39;00m\n\u001b[0;32m      4\u001b[0m \u001b[39mimport\u001b[39;00m \u001b[39mplotly\u001b[39;00m\u001b[39m.\u001b[39;00m\u001b[39mexpress\u001b[39;00m \u001b[39mas\u001b[39;00m \u001b[39mpx\u001b[39;00m\n\u001b[0;32m      6\u001b[0m url\u001b[39m=\u001b[39m\u001b[39m\"\u001b[39m\u001b[39mhttps://raw.githubusercontent.com/AntonKoltsov85/DS_13.9_Client_Loyality/main/churn.csv\u001b[39m\u001b[39m\"\u001b[39m\n",
      "\u001b[1;31mModuleNotFoundError\u001b[0m: No module named 'plotly'"
     ]
    }
   ],
   "source": [
    "import pandas as pd\n",
    "from IPython.display import display\n",
    "import plotly\n",
    "import plotly.express as px\n",
    "\n",
    "url=\"https://raw.githubusercontent.com/AntonKoltsov85/DS_13.9_Client_Loyality/main/churn.csv\"\n",
    "churn_data = pd.read_csv(url)\n",
    "churn_data['Exited']=churn_data['Exited'].apply(lambda x: 'Active' if x ==1 else 'Churn')\n",
    "by_country_data=churn_data[churn_data['Exited']=='Churn'].groupby('Geography',as_index=False)['Geography'].value_counts()\n",
    "display(by_country_data.head(5))\n",
    "fig = px.choropleth(\n",
    "    data_frame=by_country_data,\n",
    "    locations='Geography', \n",
    "    locationmode = \"country names\", \n",
    "    color='count',\n",
    "    color_continuous_scale=['yellow','red'],\n",
    "    title='Churn by country', \n",
    "    width=800,\n",
    "    height=500, \n",
    "    )\n",
    "\n",
    "\n",
    "fig.show()"
   ]
  },
  {
   "attachments": {},
   "cell_type": "markdown",
   "metadata": {},
   "source": [
    "Чаще всего уходят французские клиенты банка. На втором месте по оттоку испансике клиенты. Банку стоит исследовать , что не устраивает клиентов из стран с романсикми языками. Или сосредоточится на клиентах из стран с менталитетом близким к немецкому.\n",
    "\n",
    "9.10. Переведите числовой признак CreditScore в категориальный. Для этого воспользуйтесь функцией get_credit_score_cat(), которая приведена ниже. Примените её к столбцу CreditScore и создайте новый признак CreditScoreCat — категории кредитного рейтинга Постройте сводную таблицу, строками которой являются категории кредитного рейтинга (CreditScoreCat), а столбцами — количество лет, в течение которых клиент пользуется услугами банка (Tenure). В ячейках сводной таблицы должно находиться среднее по признаку оттока (Exited) — доля ушедших пользователей.\n",
    "\n",
    "На основе полученной сводной таблицы постройте тепловую карту с аннотацией. Найдите на тепловой карте категории клиентов, которые уходят чаще всего."
   ]
  },
  {
   "cell_type": "code",
   "execution_count": null,
   "metadata": {},
   "outputs": [],
   "source": [
    "def get_credit_score_cat(credit_score):\n",
    "    if credit_score >= 300 and credit_score < 500:\n",
    "        return \"Very_Poor\"\n",
    "    elif credit_score >= 500 and credit_score < 601:\n",
    "        return \"Poor\"\n",
    "    elif credit_score >= 601 and credit_score < 661:\n",
    "        return \"Fair\"\n",
    "    elif credit_score >= 661 and credit_score < 781:\n",
    "        return \"Good\"\n",
    "    elif credit_score >= 781 and credit_score < 851:\n",
    "        return \"Excellent\"\n",
    "    elif credit_score >= 851:\n",
    "        return \"Top\"\n",
    "    elif credit_score < 300:\n",
    "        return \"Deep\"\n",
    "\n",
    "import pandas as pd\n",
    "from IPython.display import display\n",
    "import plotly\n",
    "import plotly.express as px\n",
    "\n",
    "url=\"https://raw.githubusercontent.com/AntonKoltsov85/DS_13.9_Client_Loyality/main/churn.csv\"\n",
    "churn_data = pd.read_csv(url)\n",
    "churn_data['CreditScoreCat']=churn_data['CreditScore'].apply(get_credit_score_cat)\n",
    "\n",
    "\n",
    "ims_data=churn_data.pivot_table(\n",
    "    values='Exited',\n",
    "    index=['CreditScoreCat'],\n",
    "    columns='Tenure',\n",
    "    aggfunc='mean',\n",
    "    fill_value=0\n",
    ")\n",
    "ims_data=ims_data.round(3)\n",
    "fig = px.imshow(ims_data,text_auto=True)\n",
    "fig.update_xaxes(tick0=0)\n",
    "fig.update_xaxes(dtick=1)\n",
    "fig.update_layout(title='Карта лояльности клиентов ')\n",
    "fig.update_layout(yaxis_title='Категория кредитного рейтинга')\n",
    "fig.update_layout(xaxis_title='Колчиество лет проведенных с банком')\n",
    "fig.show()"
   ]
  },
  {
   "attachments": {},
   "cell_type": "markdown",
   "metadata": {},
   "source": [
    "Поскольку в исходных данных лояльный клиент обозначается 1 , а ушедший 0 в столбце Exited нужно понимать, что наиболее высокое среднее по категории обозначает группу с наиболее высокой лояльностью. То есть наиболлее лояльные группы обозначены наиболее светлыми оттенками , а группы с наиболее выскоим средним ушедших клиентов наиболее темными. Наиболее часто уходят клиенты:\n",
    "\n",
    "Которые пользовались услгами банка 7 лет с прекрасным кредитным рейтингом(Excelent).\n",
    "Которые пользовались услгами банка 4 года с прекрасным кредитным рейтингом(Excelent).\n",
    "Которые пользовались услгами банка 2 года с прекрасным кредитным рейтингом(Excelent)."
   ]
  }
 ],
 "metadata": {
  "kernelspec": {
   "display_name": "Python 3",
   "language": "python",
   "name": "python3"
  },
  "language_info": {
   "codemirror_mode": {
    "name": "ipython",
    "version": 3
   },
   "file_extension": ".py",
   "mimetype": "text/x-python",
   "name": "python",
   "nbconvert_exporter": "python",
   "pygments_lexer": "ipython3",
   "version": "3.11.1"
  },
  "orig_nbformat": 4
 },
 "nbformat": 4,
 "nbformat_minor": 2
}
