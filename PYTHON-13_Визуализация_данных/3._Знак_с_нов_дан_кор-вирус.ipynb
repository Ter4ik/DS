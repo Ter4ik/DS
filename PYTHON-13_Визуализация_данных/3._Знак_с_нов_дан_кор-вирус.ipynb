{
 "cells": [
  {
   "cell_type": "code",
   "execution_count": null,
   "metadata": {},
   "outputs": [],
   "source": [
    "import pandas as pd"
   ]
  },
  {
   "attachments": {},
   "cell_type": "markdown",
   "metadata": {},
   "source": [
    "             Мы будем изучать методы визуализации, используя два набора данных:\n",
    "\n",
    "1 covid_data — данные о показателях заболеваемости за каждый день в различных регионах 187 стран."
   ]
  },
  {
   "cell_type": "code",
   "execution_count": null,
   "metadata": {},
   "outputs": [],
   "source": [
    "covid_data = pd.read_csv('data/covid_data.csv')\n",
    "display(covid_data.head())"
   ]
  },
  {
   "attachments": {},
   "cell_type": "markdown",
   "metadata": {},
   "source": [
    "     Мы будем работать со следующими столбцами:\n",
    "\n",
    " - date — дата наблюдения;\n",
    " - province/state — наименование провинции/штата;\n",
    " - country — наименование страны;\n",
    " - confirmed — общее число зафиксированных случаев на указанный день;\n",
    " - deaths — общее число зафиксированных смертей на указанный день;\n",
    " - recovered — общее число выздоровлений на указанный день."
   ]
  },
  {
   "attachments": {},
   "cell_type": "markdown",
   "metadata": {},
   "source": [
    "2 country_vaccinations — данные о процессе вакцинирования людей в 221 стране мира."
   ]
  },
  {
   "cell_type": "code",
   "execution_count": null,
   "metadata": {},
   "outputs": [],
   "source": [
    "vaccinations_data = pd.read_csv('data/country_vaccinations.csv')\n",
    "vaccinations_data = vaccinations_data[\n",
    "    ['country', 'date', 'total_vaccinations', \n",
    "     'people_vaccinated', 'people_vaccinated_per_hundred',\n",
    "     'people_fully_vaccinated', 'people_fully_vaccinated_per_hundred',\n",
    "     'daily_vaccinations', 'vaccines']\n",
    "]\n",
    "display(vaccinations_data.head())"
   ]
  },
  {
   "attachments": {},
   "cell_type": "markdown",
   "metadata": {},
   "source": [
    "Данная таблица содержит следующие столбцы:\n",
    "\n",
    " - country — наименование страны;\n",
    " - date — дата наблюдения;\n",
    " - total_vaccinations — общее число введённых вакцин в стране на указанный день;\n",
    " - people_vaccinated — общее число привитых первым компонентом в стране на указанный день;\n",
    " - people_vaccinated_per_hundred — процент привитых первым компонентом в стране на указанный день (рассчитывается как );\n",
    " - people_fully_vaccinated — общее число привитых вторым компонентом в стране на указанный день (первый компонент уже был введён им ранее);\n",
    " - people_fully_vaccinated_per_hundred — процент привитых вторым компонентом в стране на указанный день (рассчитывается как );\n",
    " - daily_vaccination — ежедневная вакцинация (число вакцинированных в указанный день);\n",
    " - vaccines — комбинации вакцин, используемые в стране."
   ]
  },
  {
   "attachments": {},
   "cell_type": "markdown",
   "metadata": {},
   "source": [
    "_____________________________\n",
    "Обратите внимание, что признаки confirmed, deaths, recovered, total_vaccination, people_vaccinated, people_fully_vaccinated — это суммарные показатели по стране, то есть с каждым днём они должны расти. Такие признаки называют накопительными.\n",
    "______________________________\n",
    "Возникает большое желание объединить таблицы. Для этого необходимо учитывать следующие нюансы:\n",
    "\n",
    "1 В таблице covid_data необходимо предварительно рассчитать суммарное ежедневное число заболевших во всех провинциях/штатах в каждой стране.\n",
    "\n",
    "2 В таблицах не совпадает число стран, а иногда и их названия. </br>\n",
    "При объединении таблиц по столбцу мы определённо теряем данные (в данной задаче потери незначительны). Избежать этого можно ручными преобразованиями данных — искать различия в названиях стран в таблицах и преобразовывать их. Однако это не является темой данного модуля.\n",
    "\n",
    "3 Таблицы имеют разные периоды наблюдений (вакцины появились позже, чем сам вирус). Объединив данные с типом inner, мы можем потерять большое количество наблюдений в таблице covid_data.\n",
    "\n",
    "                  ПРЕДОБРАБОТКА ДАННЫХ\n",
    "\n",
    "Опираясь на замечания выше, выполним небольшую предобработку.</br>\n",
    "                               В таблице ***covid_data***:</br>\n",
    "1 Группируем таблицу по дате и названию страны и рассчитываем суммарные показатели по всем регионам. Тем самым переходим от данных по регионам к данным по странам:"
   ]
  },
  {
   "cell_type": "code",
   "execution_count": null,
   "metadata": {},
   "outputs": [],
   "source": [
    "covid_data = covid_data.groupby(\n",
    "    ['date', 'country'], \n",
    "    as_index=False\n",
    ")[['confirmed', 'deaths', 'recovered']].sum()"
   ]
  },
  {
   "attachments": {},
   "cell_type": "markdown",
   "metadata": {},
   "source": [
    "2 Преобразуем даты в формат datetime с помощью функции pd.to_datetime():"
   ]
  },
  {
   "cell_type": "code",
   "execution_count": null,
   "metadata": {},
   "outputs": [],
   "source": [
    "covid_data['date'] = pd.to_datetime(covid_data['date'])"
   ]
  },
  {
   "attachments": {},
   "cell_type": "markdown",
   "metadata": {},
   "source": [
    "3 Создадим признак больных на данный момент (active). Для этого вычтем из общего числа зафиксированных случаев число смертей и число выздоровевших пациентов:"
   ]
  },
  {
   "cell_type": "code",
   "execution_count": null,
   "metadata": {},
   "outputs": [],
   "source": [
    "covid_data['active'] = covid_data['confirmed']-covid_data['deaths']-covid_data['recovered']"
   ]
  },
  {
   "attachments": {},
   "cell_type": "markdown",
   "metadata": {},
   "source": [
    "4 Создадим признак ежедневного прироста числа заболевших, умерших и выздоровевших людей. Для этого отсортируем данные по названиям стран, а затем по датам. После этого произведём группировку по странам и рассчитаем разницу между «вчера и сегодня» с помощью метода diff():"
   ]
  },
  {
   "cell_type": "code",
   "execution_count": null,
   "metadata": {},
   "outputs": [],
   "source": [
    "covid_data = covid_data.sort_values(by=['country', 'date'])\n",
    "covid_data['daily_confirmed']= covid_data.groupby('country')['confirmed'].diff()\n",
    "covid_data['daily_deaths']= covid_data.groupby('country')['deaths'].diff()\n",
    "covid_data['daily_recovered'] = covid_data.groupby('country')['recovered'].diff()\n",
    "display(covid_data.head())"
   ]
  },
  {
   "attachments": {},
   "cell_type": "markdown",
   "metadata": {},
   "source": [
    "В таблице vaccinations_data достаточно будет преобразовать столбцы в формат datetime:"
   ]
  },
  {
   "cell_type": "code",
   "execution_count": null,
   "metadata": {},
   "outputs": [],
   "source": [
    "vaccinations_data['date'] = pd.to_datetime(vaccinations_data['date'])"
   ]
  },
  {
   "attachments": {},
   "cell_type": "markdown",
   "metadata": {},
   "source": [
    "Задание 3.1</br>\n",
    "За какой период представлены данные в таблице covid_data? В качестве ответа введите даты в формате datetime (без указания времени).</br>\n",
    "Введите ответ в следующем формате (без пробелов): ГГГГ-ММ-ДД-ГГГГ-ММ-ДД</br>\n",
    "Подсказка (1 из 1): Для определения периода можно найти максимум и минимум в столбце date таблицы covid_data."
   ]
  },
  {
   "cell_type": "code",
   "execution_count": null,
   "metadata": {},
   "outputs": [],
   "source": [
    "covid_data['date'].describe()\n",
    "# я нашла с помощью describe()"
   ]
  },
  {
   "cell_type": "code",
   "execution_count": null,
   "metadata": {},
   "outputs": [],
   "source": [
    "print(f\"Данные о заболеваемости предоставлены от {covid_data['date'].min()} до  {covid_data['date'].max()}\")"
   ]
  },
  {
   "attachments": {},
   "cell_type": "markdown",
   "metadata": {},
   "source": [
    "Задание 3.2</br>\n",
    "За какой период представлены данные в таблице vaccinations_data? В качестве ответа введите даты в формате datetime без указания времени.</br>\n",
    "Введите ответ в следующем формате (без пробелов): ГГГГ-ММ-ДД-ГГГГ-ММ-ДД</br>\n",
    "Подсказка (1 из 1): Для определения интервала даты можно найти максимум и минимум в столбца date таблицы vaccination_data."
   ]
  },
  {
   "cell_type": "code",
   "execution_count": null,
   "metadata": {},
   "outputs": [],
   "source": [
    "vaccinations_data['date'].describe()"
   ]
  },
  {
   "cell_type": "code",
   "execution_count": null,
   "metadata": {},
   "outputs": [],
   "source": [
    "print(f\"Данные о вакцинации за период {vaccinations_data['date'].min()} до {vaccinations_data['date'].max()}\")"
   ]
  },
  {
   "attachments": {},
   "cell_type": "markdown",
   "metadata": {},
   "source": [
    "**2020-01-22-2021-05-29**</br>\n",
    "**2020-12-02-2021-09-06** </br>\n",
    "Т.о. видим, что Объединение типа inner нежелательно, так как в таком случае выпадает большое число наблюдений из таблиц. Останутся только наблюдения с 2020-12-02 (нижняя граница диапазона дат таблицы vaccination_data) до 2021-05-29 (верхняя граница диапазона дат таблицы covid_data)."
   ]
  },
  {
   "attachments": {},
   "cell_type": "markdown",
   "metadata": {},
   "source": [
    "  Задание 3.3</br>\n",
    "С помощью метода merge() объедините таблицы covid_data и vaccinations_data по столбцам date и country.</br>\n",
    "Тип объединения выставьте так, чтобы в результирующую таблицу попали только наблюдения за период, вычисленный в задании 3.1. То есть в результирующую таблицу должны попасть все записи из таблицы covid_data и из её пересечения с vaccinations_data, но не более. Результат объединения занесите в переменную covid_df. </br>\n",
    "Сохраните таблицу covid_df — она понадобится нам в следующем юните. \n",
    "\n",
    "*Сколько строк и столбцов в таблице covid_df?* </br>\n",
    "*Введите ответ в виде двух чисел через дефис (например, 333-33): первое число — количество строк, второе число — количество столбцов.*"
   ]
  },
  {
   "cell_type": "code",
   "execution_count": null,
   "metadata": {},
   "outputs": [],
   "source": [
    "covid_df = covid_data.merge(vaccinations_data, on=['date', 'country'], how='left')\n",
    "print(f\"Число строк {covid_df.shape[0]}\")\n",
    "print(f\"число столбцов {covid_df.shape[1]}\")"
   ]
  },
  {
   "attachments": {},
   "cell_type": "markdown",
   "metadata": {},
   "source": [
    "В получившейся в задании 3.3 таблице covid_df создайте признаки death_rate — общий процент смертей среди зафиксированных случаев (летальность) и recover_rate — общий процент случаев выздоровления. Данные характеристики рассчитайте как отношение числа смертей (deaths) и числа выздоровлений (recovered) к числу зафиксированных случаев (confirmed) и умножьте результаты на 100%."
   ]
  },
  {
   "cell_type": "code",
   "execution_count": null,
   "metadata": {},
   "outputs": [],
   "source": [
    "covid_df['death_rate']= covid_df['deaths']/covid_df['confirmed']*100\n",
    "covid_df['recover_rate'] = covid_df['recovered']/covid_df['confirmed']*100"
   ]
  },
  {
   "attachments": {},
   "cell_type": "markdown",
   "metadata": {},
   "source": [
    "Задание 3.4</br>\n",
    "Какова максимальная летальность в США (United States) за весь период? Ответ округлите до второго знака после запятой."
   ]
  },
  {
   "cell_type": "code",
   "execution_count": null,
   "metadata": {},
   "outputs": [],
   "source": [
    "round(covid_df[covid_df['country']=='United States']['death_rate'].max(), 2)"
   ]
  },
  {
   "attachments": {},
   "cell_type": "markdown",
   "metadata": {},
   "source": [
    "Задание 3.5</br>\n",
    "Чему равен средний процент выздоровевших в России (Russia)? Ответ округлите до второго знака после запятой."
   ]
  },
  {
   "cell_type": "code",
   "execution_count": null,
   "metadata": {},
   "outputs": [],
   "source": [
    "round(covid_df[covid_df['country']=='Russia']['recover_rate'].mean(), 2)"
   ]
  },
  {
   "cell_type": "code",
   "execution_count": null,
   "metadata": {},
   "outputs": [],
   "source": [
    "grouped_cases = covid_df.groupby('date')['daily_confirmed'].sum()\n",
    "grouped_cases.plot(\n",
    "    kind='line',\n",
    "    figsize=(12, 4),\n",
    "    title='Ежедневная заболеваемость по всем странам',\n",
    "    grid = True,\n",
    "    lw=3\n",
    ")-"
   ]
  },
  {
   "attachments": {},
   "cell_type": "markdown",
   "metadata": {},
   "source": [
    "                   4. Графические возможности библиотеки Pandas"
   ]
  },
  {
   "attachments": {},
   "cell_type": "markdown",
   "metadata": {},
   "source": [
    "Базовую (примитивную) визуализацию можно выполнить с помощью уже знакомой нам библиотеки Pandas. Функционал для создания основных типов графиков уже включён в библиотеку </br>\n",
    "________________________________\n",
    "**Примечание.** Для визуализации Pandas использует библиотеку matplotlib, о которой мы поговорим в следующем юните. Если попробовать воспользоваться методами визуализации Pandas без предварительной установки matplotlib, вы получите ошибку ImportError. \n",
    "\n",
    "Для установки библиотеки используется стандартная команда, которую нужно выполнить в терминале:</br>\n",
    "``pip install matplotlib``\n",
    "\n",
    "или в ячейке ноутбука:\n",
    "\n",
    "``! pip install matplotlib`` \n",
    "\n",
    "                           БАЗОВАЯ ВИЗУАЛИЗАЦИЯ В PANDAS\n",
    "\n",
    "Основным методом для создания простейших графиков в Pandas является plot().\n",
    "\n",
    "                            Основные параметры метода plot()\n",
    "\n",
    " - x — название признака, который будет отложен по оси абсцисс;\n",
    " - y — название признака, который будет отложен по оси ординат;\n",
    " - figsize — размер графика (кортеж из ширины и высоты в дюймах);\n",
    " - kind —тип визуализации. Основные типы:\n",
    " - 'line' — линейный график (по умолчанию);\n",
    " - 'bar' — столбчатая диаграмма;\n",
    " - 'barh' — горизонтальная столбчатая диаграмма;\n",
    " - 'hist' — гистограмма;\n",
    " - 'box' — коробчатая диаграмма (boxplot);\n",
    " - 'pie' — круговая диаграмма;\n",
    " - 'scatter' — диаграмма рассеяния.\n",
    " - grid — отображение сетки (по умолчанию False);\n",
    " - legend — отображение легенды (по умолчанию False);\n",
    " - title — название графика;\n",
    " - color — цвет"
   ]
  },
  {
   "attachments": {},
   "cell_type": "markdown",
   "metadata": {},
   "source": [
    "Давайте попрактикуемся в использовании метода plot().\n",
    "\n",
    "Начнём с исследования заболеваемости коронавирусом во всём мире. Для этого первым делом отобразим, как менялось ежедневное число заболевших (daily_confirmed) во всём мире во времени. Далее сгруппируем таблицу по датам и подсчитаем суммарное число зафиксированных случаев по дням.\n",
    "\n",
    "Теперь мы наконец можем построить график с помощью метода plot(). Будем использовать линейный график размером 12x4 (попробуйте взять другие числа, чтобы увидеть разницу). Подпишем график и отобразим сетку. Параметр lw (line width) отвечает за ширину линии для линейного графика."
   ]
  },
  {
   "cell_type": "code",
   "execution_count": null,
   "metadata": {},
   "outputs": [],
   "source": [
    "! pip install matplotlib"
   ]
  },
  {
   "cell_type": "code",
   "execution_count": null,
   "metadata": {},
   "outputs": [],
   "source": [
    "grouped_cases = covid_df.groupby('date')['daily_confirmed'].sum()\n",
    "grouped_cases.plot(\n",
    "    kind='line',\n",
    "    figsize=(12, 4),\n",
    "    title='Ежедневная заболеваемость по всем странам',\n",
    "    grid = True,\n",
    "    lw=3\n",
    ")"
   ]
  }
 ],
 "metadata": {
  "kernelspec": {
   "display_name": "Python 3",
   "language": "python",
   "name": "python3"
  },
  "language_info": {
   "codemirror_mode": {
    "name": "ipython",
    "version": 3
   },
   "file_extension": ".py",
   "mimetype": "text/x-python",
   "name": "python",
   "nbconvert_exporter": "python",
   "pygments_lexer": "ipython3",
   "version": "3.11.1"
  },
  "orig_nbformat": 4
 },
 "nbformat": 4,
 "nbformat_minor": 2
}
