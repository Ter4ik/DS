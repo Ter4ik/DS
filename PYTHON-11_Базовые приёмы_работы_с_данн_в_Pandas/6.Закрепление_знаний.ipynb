{
 "cells": [
  {
   "attachments": {},
   "cell_type": "markdown",
   "metadata": {},
   "source": [
    "На этот раз мы поговорим о спорте, а точнее — о велоспорте. \n",
    "\n",
    "Вашим заданием в этом модуле будет проанализировать и преобразовать данные о велопоездках клиентов компании Citi Bike (США), специализирующейся на прокате велосипедов. <br/>\n",
    "Датасет представляет собой таблицу с информацией о 300 тысячах поездок за первые пять дней сентября 2018 года и включает в себя следующую информацию:<br/>\n",
    "- starttime — время начала поездки (дата, время);\n",
    "- stoptime — время окончания поездки (дата, время);\n",
    "- start station id — идентификатор стартовой стоянки;\n",
    "- start station name — название стартовой стоянки;\n",
    "- start station latitude, start station longitude — географическая широта и долгота стартовой стоянки;\n",
    "- end station id — идентификатор конечной стоянки;\n",
    "- end station name — название конечной стоянки;\n",
    "- end station latitude, end station longitude — географическая широта и долгота конечной стоянки;\n",
    "- bikeid — идентификатор велосипеда;\n",
    "- usertype — тип пользователя (Customer — клиент с подпиской на 24 часа или на три дня, Subscriber — подписчик с годовой арендой велосипеда);\n",
    "- birth year — год рождения клиента;\n",
    "- gender — пол клиента (0 — неизвестный, 1 — мужчина, 2 — женщина)."
   ]
  },
  {
   "cell_type": "code",
   "execution_count": null,
   "metadata": {},
   "outputs": [],
   "source": [
    "import pandas as pd\n",
    "citibike_tripdata = pd.read_csv('data/citibike-tripdata.csv', sep = ',')\n",
    "display(citibike_tripdata.head())"
   ]
  },
  {
   "attachments": {},
   "cell_type": "markdown",
   "metadata": {},
   "source": [
    "Сколько пропусков в столбце start station id?"
   ]
  },
  {
   "cell_type": "code",
   "execution_count": null,
   "metadata": {},
   "outputs": [],
   "source": [
    "citibike_tripdata.info()\n",
    "# 169"
   ]
  },
  {
   "attachments": {},
   "cell_type": "markdown",
   "metadata": {},
   "source": [
    "Какой тип данных имеют столбцы starttime и stoptime?\n",
    "object"
   ]
  },
  {
   "attachments": {},
   "cell_type": "markdown",
   "metadata": {},
   "source": [
    "Найдите идентификатор самой популярной стартовой стоянки. Запишите идентификатор в виде целого числа."
   ]
  },
  {
   "cell_type": "code",
   "execution_count": null,
   "metadata": {},
   "outputs": [],
   "source": [
    "citibike_tripdata['start station id'].mode()[0]"
   ]
  },
  {
   "attachments": {},
   "cell_type": "markdown",
   "metadata": {},
   "source": [
    "Велосипед с каким идентификатором является самым популярным?"
   ]
  },
  {
   "cell_type": "code",
   "execution_count": null,
   "metadata": {},
   "outputs": [],
   "source": [
    "citibike_tripdata['bikeid'].mode()[0]"
   ]
  },
  {
   "attachments": {},
   "cell_type": "markdown",
   "metadata": {},
   "source": [
    "Какой тип клиентов (столбец usertype) является преобладающим — Subscriber или Customer? В качестве ответа запишите долю клиентов преобладающего типа среди общего количества клиентов. Ответ округлите до сотых."
   ]
  },
  {
   "cell_type": "code",
   "execution_count": null,
   "metadata": {},
   "outputs": [],
   "source": [
    "citibike_tripdata['usertype'].value_counts(normalize=True)"
   ]
  },
  {
   "attachments": {},
   "cell_type": "markdown",
   "metadata": {},
   "source": [
    "другим способом"
   ]
  },
  {
   "cell_type": "code",
   "execution_count": null,
   "metadata": {},
   "outputs": [],
   "source": [
    "citibike_tripdata['usertype'].mode()[0]\n",
    "citibike_tripdata[citibike_tripdata['usertype']=='Subscriber'].shape[0]\n",
    "print(round(citibike_tripdata[citibike_tripdata['usertype']=='Subscriber'].shape[0])/(citibike_tripdata.shape[0]))"
   ]
  },
  {
   "attachments": {},
   "cell_type": "markdown",
   "metadata": {},
   "source": [
    "Кто больше занимается велоспортом — мужчины или женщины? В ответ запишите число поездок для той группы, у которой их больше."
   ]
  },
  {
   "cell_type": "code",
   "execution_count": null,
   "metadata": {},
   "outputs": [],
   "source": [
    "# citibike_tripdata['gender'].mode()[0] # 1\n",
    "citibike_tripdata['gender'].value_counts(0)"
   ]
  },
  {
   "cell_type": "code",
   "execution_count": null,
   "metadata": {},
   "outputs": [],
   "source": [
    "#  эталонное решение\n",
    "male_count = citibike_tripdata[citibike_tripdata['gender'] == 1].shape[0]\n",
    "female_count = citibike_tripdata[citibike_tripdata['gender'] == 2].shape[0]\n",
    "print(max([male_count, female_count]))"
   ]
  },
  {
   "attachments": {},
   "cell_type": "markdown",
   "metadata": {},
   "source": [
    "Выберите утверждения,которые соответствуют нашим данным:\n",
    "- A Число уникальных стартовых и конечных стоянок, которыми воспользовались клиенты, не равны друг другу\n",
    "- B В рассматриваемые дни минимальный возраст клиента составлял 10 лет\n",
    "- C Самой непопулярной стартовой стоянкой из тех, которыми воспользовались клиенты, является стоянка с названием \"Eastern Pkwy & Washington Ave\"\n",
    "- D Наибольшее количество поездок завершается на стоянке под названием \"Liberty Light Rail\"\n",
    "Подсказка (1 из 1): Для вывода статистической информации в таблице можно воспользоваться методом describe()."
   ]
  },
  {
   "cell_type": "code",
   "execution_count": null,
   "metadata": {},
   "outputs": [],
   "source": [
    "# A Число уникальных стартовых и конечных стоянок, которыми воспользовались клиенты, не равны друг другу\n",
    "a = citibike_tripdata['start station name'].nunique()\n",
    "b = citibike_tripdata['end station name'].nunique()\n",
    "print(a, b)"
   ]
  },
  {
   "cell_type": "code",
   "execution_count": null,
   "metadata": {},
   "outputs": [],
   "source": [
    "# B В рассматриваемые дни минимальный возраст клиента составлял 10 лет\n",
    "citibike_tripdata['birth year'].max()\n"
   ]
  },
  {
   "cell_type": "code",
   "execution_count": null,
   "metadata": {},
   "outputs": [],
   "source": [
    " # C Самой непопулярной стартовой стоянкой из тех, которыми воспользовались клиенты, \n",
    " # является стоянка с названием \"Eastern Pkwy & Washington Ave\"\n",
    "citibike_tripdata['start station name'].value_counts()"
   ]
  },
  {
   "cell_type": "code",
   "execution_count": null,
   "metadata": {},
   "outputs": [],
   "source": [
    "# Наибольшее количество поездок завершается на стоянке под названием \"Liberty Light Rail\"\n",
    "citibike_tripdata['end station name'].value_counts()\n"
   ]
  },
  {
   "cell_type": "code",
   "execution_count": null,
   "metadata": {},
   "outputs": [],
   "source": [
    "data= citibike_tripdata.copy()"
   ]
  },
  {
   "attachments": {},
   "cell_type": "markdown",
   "metadata": {},
   "source": [
    "В первую очередь удалим лишнюю информацию из данных.\n",
    "В наших данных присутствуют столбцы, которые дублируют информацию друг о друге: это столбцы с идентификатором и названием стартовой и конечной стоянки. Удалите признаки идентификаторов стоянок. Сколько столбцов осталось?\n",
    "\n",
    "\n",
    "Подсказка (1 из 2): Для удаления столбцов из таблицы можно воспользоваться методом drop(), передав в него наименования столбцов, а также параметр axis=1.\n",
    "Подсказка (2 из 2): Результирующее число столбцов можно получить с помощью атрибута shape."
   ]
  },
  {
   "cell_type": "code",
   "execution_count": null,
   "metadata": {},
   "outputs": [],
   "source": [
    "data = data.drop(['start station id','end station id'], axis= 1)\n",
    "data.shape[1]"
   ]
  },
  {
   "attachments": {},
   "cell_type": "markdown",
   "metadata": {},
   "source": [
    "Замените признак birth year на более понятный признак возраста клиента age. Годом отсчёта возраста выберите 2018 год. Столбец birth year удалите из таблицы. Сколько поездок совершено клиентами старше 60 лет?\n",
    "\n",
    "- Подсказка (1 из 3): Чтобы создать столбец с возрастом, вычтите из числа 2018 столбец birth year, а результат положите в столбец age.\n",
    "- Подсказка (2 из 3): Удалите столбец birth year и произведите фильтрацию по условию «возраст больше 60».\n",
    "- Подсказка (3 из 3): Найдите число строк в отфильтрованной таблице.\n"
   ]
  },
  {
   "cell_type": "code",
   "execution_count": null,
   "metadata": {},
   "outputs": [],
   "source": [
    "data['age'] = 2018 - data['birth year']\n",
    "data.drop(['birth year'], axis=1, inplace=True)\n",
    "print(data[data['age'] > 60].shape[0])"
   ]
  },
  {
   "attachments": {},
   "cell_type": "markdown",
   "metadata": {},
   "source": [
    "Cоздайте признак длительности поездки trip duration. Для этого вычислите интервал времени между временем окончания поездки (stoptime) и её началом (starttime). Сколько целых минут длилась поездка под индексом 3 в таблице?\n",
    "\n",
    "Подсказка - Приводим столбцы starttime и stoptime в формат datetime, чтобы между ними можно было вычислять интервал (разницу между датами).\n",
    "         - Длительность поездки рассчитывается как разница между stoptime и starttime. Результат заносим в столбец trip duration. Далее нам останется только обратиться к строке под индексом 3."
   ]
  },
  {
   "cell_type": "code",
   "execution_count": null,
   "metadata": {},
   "outputs": [],
   "source": [
    "data_start = pd.to_datetime(data['starttime'])\n",
    "data_stop = pd.to_datetime(data['stoptime'])\n",
    "data['trip duration']= data_stop - data_start\n",
    "data.loc[3, 'trip duration']"
   ]
  },
  {
   "attachments": {},
   "cell_type": "markdown",
   "metadata": {},
   "source": [
    "Создайте «признак-мигалку» weekend, который равен 1, если поездка начиналась в выходной день (суббота или воскресенье), и 0 — в противном случае. Выясните, сколько поездок начиналось в выходные.<br/>\n",
    "- Подсказка (1 из 3): Чтобы создать признак weekend, необходимо с помощью атрибута аксессора dt dayofweek выделить день недели из столбца с датой начала поездки.W\n",
    "- Подсказка (2 из 3): С помощью метода apply() можно применить к результирующей Series функцию, которая принимает на вход число (день поездки) и возвращает 1, если это число равно 5 или 6 (суббота и воскресенье), в противном случае функция возвращает 0. Результат необходимо занести в столбец weekend.\n",
    "- Подсказка (3 из 3): Самый простой способ посчитать число поездок, совершаемых в выходные — рассчитать сумму по столбцу (поскольку столбец состоит из 1 и 0, на выходе суммы получается количество, равное 1)."
   ]
  },
  {
   "cell_type": "code",
   "execution_count": null,
   "metadata": {},
   "outputs": [],
   "source": [
    "data['weekday'] = data['starttime'].dt.dayofweek\n",
    "def get_weekend(weekday):\n",
    "    if weekday == 5 or weekday == 6:\n",
    "        return 1\n",
    "    else: \n",
    "        return 0\n",
    "data['weekend'] = data['weekday'].apply(get_weekend)\n",
    "data['weekend'].sum()\n"
   ]
  },
  {
   "cell_type": "markdown",
   "metadata": {},
   "source": []
  }
 ],
 "metadata": {
  "kernelspec": {
   "display_name": "Python 3",
   "language": "python",
   "name": "python3"
  },
  "language_info": {
   "codemirror_mode": {
    "name": "ipython",
    "version": 3
   },
   "file_extension": ".py",
   "mimetype": "text/x-python",
   "name": "python",
   "nbconvert_exporter": "python",
   "pygments_lexer": "ipython3",
   "version": "3.11.1"
  },
  "orig_nbformat": 4,
  "vscode": {
   "interpreter": {
    "hash": "696790def7d167a731652f6f177d9e643d898d32effa2d6835f8497634f0c4aa"
   }
  }
 },
 "nbformat": 4,
 "nbformat_minor": 2
}
